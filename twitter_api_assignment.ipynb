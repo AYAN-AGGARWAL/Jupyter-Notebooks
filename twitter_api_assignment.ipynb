{
 "cells": [
  {
   "cell_type": "markdown",
   "id": "27056ad9-1509-4b0c-96d9-c8c4e60d58e6",
   "metadata": {},
   "source": [
    "## Question:\n",
    "Define API. Write code in Python to fetch top 100 tweets having keyword #UGC from\n",
    "twitter using Twitter API."
   ]
  },
  {
   "cell_type": "markdown",
   "id": "789f531d-c761-4e08-8689-ec2491c2a1b6",
   "metadata": {},
   "source": [
    "### API:\n",
    "API stands for Application Programming Interface. In the context of APIs, the word Application refers to any software with a distinct function. APIs are mechanisms that enable two software components to communicate with each other using a set of definitions and protocols. Interface can be thought of as a contract of service between two applications. This contract defines how the two communicate with each other using requests and responses.   \n",
    "For example:  \n",
    "The weather bureau’s software system contains daily weather data. The weather app on your phone “talks” to this system via APIs and shows you daily weather updates on your phone. "
   ]
  },
  {
   "cell_type": "markdown",
   "id": "1c666569-afd3-4a33-9621-2afda37b08d2",
   "metadata": {},
   "source": [
    "### Fetching tweets using Twitter API and `requests` library"
   ]
  },
  {
   "cell_type": "code",
   "execution_count": 1,
   "id": "4565ea39-bad2-4ac1-b30c-7b2856c4979f",
   "metadata": {},
   "outputs": [
    {
     "name": "stdout",
     "output_type": "stream",
     "text": [
      "100 \n",
      "\n",
      "Tweet 1: Do not under estimate local businesses! Restaurants, Realtors, local flower shops, local jewelry shops, literally any small business in your area. Email those pitch’s and land some deals! 💼🎥\n",
      "#UGC #ugccommunity\n",
      "\n",
      "Tweet 2: RT @Quirkyagency: 💸We Are Looking for #UGC creators. For an monthly salary ( $3,000 - $10,000) for estimate videos (10 vids - 30 vids) per…\n",
      "\n",
      "Tweet 3: RT @c2worldmeta: https://t.co/5jvCuwSsCh is the first UGC-driven Multiverse.\n",
      "You can find out what we want to achieve in the following clip…\n",
      "\n",
      "Tweet 4: RT @c2worldmeta: https://t.co/5jvCuwSsCh is the first UGC-driven Multiverse.\n",
      "You can find out what we want to achieve in the following clip…\n",
      "\n",
      "Tweet 5: lumanu has really came through with the invoices and making sure I get my payment a month from sending it out! \n",
      "\n",
      "#ugc #ugccontent #ugccreator #ugccommunity #ugccontentcreator\n",
      "\n",
      "Tweet 6: Welcome to our nuorganic marketing mini- series 🙌😊\n",
      "\n",
      "Here to teach you the funnel of marketing &amp; videos \n",
      "#ugc #ugccommunity #ugceducation #nuorganic\n",
      "\n",
      "Tweet 7: Just secured a monthly retainer for a fitness &amp; wellness brand! Super excited to get back in working out and trying different recipes with their product. Super excited about this one!\n",
      "\n",
      "#ugc #ugccontent #ugccontentcreator #ugccommunity #ugccreator\n",
      "\n",
      "Tweet 8: RT @emmythyst: ugc deal on twitter- “we want 10 videos, raw footage, extra hooks, ur left shoe, deed to ur house and ur last brain cell. we…\n",
      "\n",
      "Tweet 9: From starting UGC til now, what have you learned is super important in this creator role?\n",
      "\n",
      "#ugc #ugccreator #ugccreatorsneeded #ugccontent #ugccontentcreator #UGCcommunity\n",
      "\n",
      "Tweet 10: RT @c2worldmeta: https://t.co/5jvCuwSsCh is the first UGC-driven Multiverse.\n",
      "You can find out what we want to achieve in the following clip…\n",
      "\n"
     ]
    }
   ],
   "source": [
    "import requests\n",
    "\n",
    "bearer_token = \"AAAAAAAAAAAAAAAAAAAAAHSajQEAAAAASYD8mEnymRjCcZ1KgLf5Run%2BiI4%3Dt8uDCek1RyScotKXpFVEwkKOXe04D3dwP8rl0Bjlsol8w3Aw02\"\n",
    "\n",
    "# Set the URL for the search endpoint\n",
    "url = \"https://api.twitter.com/2/tweets/search/recent\"\n",
    "\n",
    "# Set the parameters for the search query\n",
    "params = {\n",
    "    \"query\": \"#UGC\",\n",
    "    \"max_results\": 100\n",
    "}\n",
    "\n",
    "# Set the authorization header\n",
    "headers = {\n",
    "    \"Authorization\": f\"Bearer {bearer_token}\"\n",
    "}\n",
    "\n",
    "# Send the request to the Twitter API\n",
    "response = requests.get(url, headers=headers, params=params)\n",
    "\n",
    "# Putting all the tweets in a list:\n",
    "tweets=[]\n",
    "for tweet in response.json()[\"data\"]:\n",
    "    tweets.append(tweet['text'])\n",
    "\n",
    "print(len(tweets), '\\n')\n",
    "\n",
    "# Printing first 10 tweets:\n",
    "for i in range(0,10):\n",
    "    print(f'Tweet {i+1}: {tweets[i]}')\n",
    "    print() "
   ]
  },
  {
   "cell_type": "code",
   "execution_count": null,
   "id": "ed0a3127-cd71-42c4-966f-3448ed3d9845",
   "metadata": {},
   "outputs": [],
   "source": []
  }
 ],
 "metadata": {
  "kernelspec": {
   "display_name": "Python 3 (ipykernel)",
   "language": "python",
   "name": "python3"
  },
  "language_info": {
   "codemirror_mode": {
    "name": "ipython",
    "version": 3
   },
   "file_extension": ".py",
   "mimetype": "text/x-python",
   "name": "python",
   "nbconvert_exporter": "python",
   "pygments_lexer": "ipython3",
   "version": "3.10.6"
  }
 },
 "nbformat": 4,
 "nbformat_minor": 5
}
