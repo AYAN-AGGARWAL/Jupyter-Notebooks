{
 "cells": [
  {
   "cell_type": "markdown",
   "id": "e976da89",
   "metadata": {
    "id": "_28kLpYaLaWR",
    "papermill": {
     "duration": 0.01883,
     "end_time": "2022-10-14T19:20:09.612354",
     "exception": false,
     "start_time": "2022-10-14T19:20:09.593524",
     "status": "completed"
    },
    "tags": []
   },
   "source": [
    "## Aim:\n",
    "Prediction of class of user\n",
    "\n",
    "### About Dataset\n",
    "Prediction task is to determine Work Class of a user.\n",
    "\n",
    "#### Columns are:\n",
    "1. age: continuous.\n",
    "\n",
    "2. workclass: Private, Self-emp-not-inc, Self-emp-inc, Federal-gov, Local-gov, State-gov, Without-pay, Never-worked.\n",
    "\n",
    "3. fnlwgt: continuous.\n",
    "\n",
    "4. education: Bachelors, Some-college, 11th, HS-grad, Prof-school, Assoc-acdm, Assoc-voc, 9th, 7th-8th, 12th, Masters, 1st-4th, 10th, Doctorate, 5th-6th, Preschool.\n",
    "\n",
    "5. education-num: continuous.\n",
    "\n",
    "6. marital-status: Married-civ-spouse, Divorced, Never-married, Separated, Widowed, Married-spouse-absent, Married-AF-spouse.\n",
    "\n",
    "7. occupation: Tech-support, Craft-repair, Other-service, Sales, Exec-managerial, Prof-specialty, Handlers-cleaners, Machine-op-inspct, Adm-clerical, Farming-fishing, Transport-moving, Priv-house-serv, Protective-serv, Armed-Forces.\n",
    "\n",
    "8. relationship: Wife, Own-child, Husband, Not-in-family, Other-relative, Unmarried.\n",
    "\n",
    "9. race: White, Asian-Pac-Islander, Amer-Indian-Eskimo, Other, Black.\n",
    "\n",
    "10. sex: Female, Male.\n",
    "\n",
    "11. capital-gain: continuous.\n",
    "\n",
    "12. capital-loss: continuous.\n",
    "\n",
    "13. hours-per-week: continuous.\n",
    "\n",
    "14. native-country: United-States, Cambodia, England, Puerto-Rico, Canada, Germany, Outlying-US(Guam-USVI-etc), India, Japan, Greece, South, China, Cuba, Iran, Honduras, Philippines, Italy, Poland, Jamaica, Vietnam, Mexico, Portugal, Ireland, France, Dominican-Republic, Laos, Ecuador, Taiwan, Haiti, Columbia, Hungary, Guatemala, Nicaragua, Scotland, Thailand, Yugoslavia, El-Salvador, Trinadad&Tobago, Peru, Hong, Holand-Netherlands.\n",
    "\n",
    "15. salary: <=50K or >50K"
   ]
  },
  {
   "cell_type": "markdown",
   "id": "60b04a5d",
   "metadata": {
    "id": "TGxhynECEl6g",
    "papermill": {
     "duration": 0.016909,
     "end_time": "2022-10-14T19:20:09.644878",
     "exception": false,
     "start_time": "2022-10-14T19:20:09.627969",
     "status": "completed"
    },
    "tags": []
   },
   "source": [
    "#### Importing Libraries"
   ]
  },
  {
   "cell_type": "code",
   "execution_count": 1,
   "id": "5faf1bca",
   "metadata": {
    "id": "xO_XCUWdEGft",
    "papermill": {
     "duration": 2.686212,
     "end_time": "2022-10-14T19:20:12.346469",
     "exception": false,
     "start_time": "2022-10-14T19:20:09.660257",
     "status": "completed"
    },
    "tags": []
   },
   "outputs": [],
   "source": [
    "import pandas as pd\n",
    "import numpy as np\n",
    "import matplotlib.pyplot as plt\n",
    "import seaborn as sns \n",
    "from sklearn.preprocessing import LabelEncoder , MinMaxScaler\n",
    "from sklearn.model_selection import train_test_split\n",
    "from sklearn.ensemble import RandomForestClassifier\n",
    "from sklearn.neighbors import KNeighborsClassifier\n",
    "from sklearn.linear_model import LogisticRegression\n",
    "from sklearn.metrics import accuracy_score, confusion_matrix, recall_score, precision_score, classification_report\n",
    "from sklearn.naive_bayes import GaussianNB\n",
    "from sklearn.metrics import plot_confusion_matrix\n",
    "from imblearn.over_sampling import SMOTE \n",
    "from sklearn.preprocessing import RobustScaler\n",
    "import plotly.express as px"
   ]
  },
  {
   "cell_type": "markdown",
   "id": "9335997b",
   "metadata": {
    "id": "Or8Ilo5hE2Qn",
    "papermill": {
     "duration": 0.01526,
     "end_time": "2022-10-14T19:20:12.377486",
     "exception": false,
     "start_time": "2022-10-14T19:20:12.362226",
     "status": "completed"
    },
    "tags": []
   },
   "source": [
    "### Data Preprocessing"
   ]
  },
  {
   "cell_type": "code",
   "execution_count": 2,
   "id": "c2f944d2",
   "metadata": {
    "id": "L3ocg3ciE5ZN",
    "papermill": {
     "duration": 0.168006,
     "end_time": "2022-10-14T19:20:12.560860",
     "exception": false,
     "start_time": "2022-10-14T19:20:12.392854",
     "status": "completed"
    },
    "tags": []
   },
   "outputs": [],
   "source": [
    "# Reading data \n",
    "df = pd.read_csv(r\"C:\\Users\\super\\Software\\Mega\\Academics\\5th sem labs\\DS Lab\\Datasets\\salary.csv\", na_values=[' ?' ])"
   ]
  },
  {
   "cell_type": "code",
   "execution_count": 483,
   "id": "63ecd555",
   "metadata": {
    "id": "5Juq-RmHfu00",
    "outputId": "b69a783f-3d03-440e-b942-e53a906ea32a",
    "papermill": {
     "duration": 0.026898,
     "end_time": "2022-10-14T19:20:12.656876",
     "exception": false,
     "start_time": "2022-10-14T19:20:12.629978",
     "status": "completed"
    },
    "tags": []
   },
   "outputs": [
    {
     "data": {
      "text/plain": [
       "Index(['age', 'workclass', 'fnlwgt', 'education', 'education-num',\n",
       "       'marital-status', 'occupation', 'relationship', 'race', 'sex',\n",
       "       'capital-gain', 'capital-loss', 'hours-per-week', 'native-country',\n",
       "       'salary'],\n",
       "      dtype='object')"
      ]
     },
     "execution_count": 483,
     "metadata": {},
     "output_type": "execute_result"
    }
   ],
   "source": [
    "df.columns"
   ]
  },
  {
   "cell_type": "code",
   "execution_count": 484,
   "id": "b14a9541",
   "metadata": {
    "id": "GNYYSaZ6R3op",
    "outputId": "afe4672b-7dd7-40a4-9b6e-c1fbff19d3b5",
    "papermill": {
     "duration": 0.041685,
     "end_time": "2022-10-14T19:20:12.714219",
     "exception": false,
     "start_time": "2022-10-14T19:20:12.672534",
     "status": "completed"
    },
    "tags": []
   },
   "outputs": [
    {
     "data": {
      "text/html": [
       "<div>\n",
       "<style scoped>\n",
       "    .dataframe tbody tr th:only-of-type {\n",
       "        vertical-align: middle;\n",
       "    }\n",
       "\n",
       "    .dataframe tbody tr th {\n",
       "        vertical-align: top;\n",
       "    }\n",
       "\n",
       "    .dataframe thead th {\n",
       "        text-align: right;\n",
       "    }\n",
       "</style>\n",
       "<table border=\"1\" class=\"dataframe\">\n",
       "  <thead>\n",
       "    <tr style=\"text-align: right;\">\n",
       "      <th></th>\n",
       "      <th>age</th>\n",
       "      <th>workclass</th>\n",
       "      <th>fnlwgt</th>\n",
       "      <th>education</th>\n",
       "      <th>education-num</th>\n",
       "      <th>marital-status</th>\n",
       "      <th>occupation</th>\n",
       "      <th>relationship</th>\n",
       "      <th>race</th>\n",
       "      <th>sex</th>\n",
       "      <th>capital-gain</th>\n",
       "      <th>capital-loss</th>\n",
       "      <th>hours-per-week</th>\n",
       "      <th>native-country</th>\n",
       "      <th>salary</th>\n",
       "    </tr>\n",
       "  </thead>\n",
       "  <tbody>\n",
       "    <tr>\n",
       "      <th>0</th>\n",
       "      <td>39</td>\n",
       "      <td>State-gov</td>\n",
       "      <td>77516</td>\n",
       "      <td>Bachelors</td>\n",
       "      <td>13</td>\n",
       "      <td>Never-married</td>\n",
       "      <td>Adm-clerical</td>\n",
       "      <td>Not-in-family</td>\n",
       "      <td>White</td>\n",
       "      <td>Male</td>\n",
       "      <td>2174</td>\n",
       "      <td>0</td>\n",
       "      <td>40</td>\n",
       "      <td>United-States</td>\n",
       "      <td>&lt;=50K</td>\n",
       "    </tr>\n",
       "    <tr>\n",
       "      <th>1</th>\n",
       "      <td>50</td>\n",
       "      <td>Self-emp-not-inc</td>\n",
       "      <td>83311</td>\n",
       "      <td>Bachelors</td>\n",
       "      <td>13</td>\n",
       "      <td>Married-civ-spouse</td>\n",
       "      <td>Exec-managerial</td>\n",
       "      <td>Husband</td>\n",
       "      <td>White</td>\n",
       "      <td>Male</td>\n",
       "      <td>0</td>\n",
       "      <td>0</td>\n",
       "      <td>13</td>\n",
       "      <td>United-States</td>\n",
       "      <td>&lt;=50K</td>\n",
       "    </tr>\n",
       "    <tr>\n",
       "      <th>2</th>\n",
       "      <td>38</td>\n",
       "      <td>Private</td>\n",
       "      <td>215646</td>\n",
       "      <td>HS-grad</td>\n",
       "      <td>9</td>\n",
       "      <td>Divorced</td>\n",
       "      <td>Handlers-cleaners</td>\n",
       "      <td>Not-in-family</td>\n",
       "      <td>White</td>\n",
       "      <td>Male</td>\n",
       "      <td>0</td>\n",
       "      <td>0</td>\n",
       "      <td>40</td>\n",
       "      <td>United-States</td>\n",
       "      <td>&lt;=50K</td>\n",
       "    </tr>\n",
       "    <tr>\n",
       "      <th>3</th>\n",
       "      <td>53</td>\n",
       "      <td>Private</td>\n",
       "      <td>234721</td>\n",
       "      <td>11th</td>\n",
       "      <td>7</td>\n",
       "      <td>Married-civ-spouse</td>\n",
       "      <td>Handlers-cleaners</td>\n",
       "      <td>Husband</td>\n",
       "      <td>Black</td>\n",
       "      <td>Male</td>\n",
       "      <td>0</td>\n",
       "      <td>0</td>\n",
       "      <td>40</td>\n",
       "      <td>United-States</td>\n",
       "      <td>&lt;=50K</td>\n",
       "    </tr>\n",
       "    <tr>\n",
       "      <th>4</th>\n",
       "      <td>28</td>\n",
       "      <td>Private</td>\n",
       "      <td>338409</td>\n",
       "      <td>Bachelors</td>\n",
       "      <td>13</td>\n",
       "      <td>Married-civ-spouse</td>\n",
       "      <td>Prof-specialty</td>\n",
       "      <td>Wife</td>\n",
       "      <td>Black</td>\n",
       "      <td>Female</td>\n",
       "      <td>0</td>\n",
       "      <td>0</td>\n",
       "      <td>40</td>\n",
       "      <td>Cuba</td>\n",
       "      <td>&lt;=50K</td>\n",
       "    </tr>\n",
       "  </tbody>\n",
       "</table>\n",
       "</div>"
      ],
      "text/plain": [
       "   age          workclass  fnlwgt   education  education-num  \\\n",
       "0   39          State-gov   77516   Bachelors             13   \n",
       "1   50   Self-emp-not-inc   83311   Bachelors             13   \n",
       "2   38            Private  215646     HS-grad              9   \n",
       "3   53            Private  234721        11th              7   \n",
       "4   28            Private  338409   Bachelors             13   \n",
       "\n",
       "        marital-status          occupation    relationship    race      sex  \\\n",
       "0        Never-married        Adm-clerical   Not-in-family   White     Male   \n",
       "1   Married-civ-spouse     Exec-managerial         Husband   White     Male   \n",
       "2             Divorced   Handlers-cleaners   Not-in-family   White     Male   \n",
       "3   Married-civ-spouse   Handlers-cleaners         Husband   Black     Male   \n",
       "4   Married-civ-spouse      Prof-specialty            Wife   Black   Female   \n",
       "\n",
       "   capital-gain  capital-loss  hours-per-week  native-country  salary  \n",
       "0          2174             0              40   United-States   <=50K  \n",
       "1             0             0              13   United-States   <=50K  \n",
       "2             0             0              40   United-States   <=50K  \n",
       "3             0             0              40   United-States   <=50K  \n",
       "4             0             0              40            Cuba   <=50K  "
      ]
     },
     "execution_count": 484,
     "metadata": {},
     "output_type": "execute_result"
    }
   ],
   "source": [
    "df.head(5)"
   ]
  },
  {
   "cell_type": "markdown",
   "id": "45c35c01-2587-4474-bfda-998d2b7ea53a",
   "metadata": {},
   "source": [
    "Dropping `education-num` column (redundant)"
   ]
  },
  {
   "cell_type": "code",
   "execution_count": 485,
   "id": "ad490dcb-cab8-4618-a0e3-deb51cf4dda9",
   "metadata": {},
   "outputs": [],
   "source": [
    "df.drop('education-num', axis=1, inplace=True)"
   ]
  },
  {
   "cell_type": "code",
   "execution_count": 486,
   "id": "418cad43",
   "metadata": {
    "id": "MeKR5VmHFTXA",
    "outputId": "e4e051fa-ac2f-4878-dc01-e3b6f501500a",
    "papermill": {
     "duration": 0.026778,
     "end_time": "2022-10-14T19:20:12.757936",
     "exception": false,
     "start_time": "2022-10-14T19:20:12.731158",
     "status": "completed"
    },
    "tags": []
   },
   "outputs": [
    {
     "data": {
      "text/plain": [
       "(32561, 14)"
      ]
     },
     "execution_count": 486,
     "metadata": {},
     "output_type": "execute_result"
    }
   ],
   "source": [
    "#rows and columns \n",
    "df.shape"
   ]
  },
  {
   "cell_type": "code",
   "execution_count": 487,
   "id": "724fba98-ed6e-40a3-866f-9f2c558b96d8",
   "metadata": {
    "id": "GW7Sun2wFWl6",
    "outputId": "0e5ebf36-5bad-4948-f480-abef8bca93ae",
    "papermill": {
     "duration": 0.057057,
     "end_time": "2022-10-14T19:20:12.831002",
     "exception": false,
     "start_time": "2022-10-14T19:20:12.773945",
     "status": "completed"
    },
    "tags": []
   },
   "outputs": [
    {
     "name": "stdout",
     "output_type": "stream",
     "text": [
      "<class 'pandas.core.frame.DataFrame'>\n",
      "RangeIndex: 32561 entries, 0 to 32560\n",
      "Data columns (total 14 columns):\n",
      " #   Column          Non-Null Count  Dtype \n",
      "---  ------          --------------  ----- \n",
      " 0   age             32561 non-null  int64 \n",
      " 1   workclass       30725 non-null  object\n",
      " 2   fnlwgt          32561 non-null  int64 \n",
      " 3   education       32561 non-null  object\n",
      " 4   marital-status  32561 non-null  object\n",
      " 5   occupation      30718 non-null  object\n",
      " 6   relationship    32561 non-null  object\n",
      " 7   race            32561 non-null  object\n",
      " 8   sex             32561 non-null  object\n",
      " 9   capital-gain    32561 non-null  int64 \n",
      " 10  capital-loss    32561 non-null  int64 \n",
      " 11  hours-per-week  32561 non-null  int64 \n",
      " 12  native-country  31978 non-null  object\n",
      " 13  salary          32561 non-null  object\n",
      "dtypes: int64(5), object(9)\n",
      "memory usage: 3.5+ MB\n"
     ]
    }
   ],
   "source": [
    "# check data type of each coulmn\n",
    "df.info()"
   ]
  },
  {
   "cell_type": "code",
   "execution_count": 488,
   "id": "87590352-30a3-47a6-8fa3-5bf3216865b9",
   "metadata": {
    "id": "x11ec5GjSB6o",
    "outputId": "6f9999cc-f7a8-4ce8-f263-6797b7ec6e42",
    "papermill": {
     "duration": 0.085901,
     "end_time": "2022-10-14T19:20:12.934405",
     "exception": false,
     "start_time": "2022-10-14T19:20:12.848504",
     "status": "completed"
    },
    "tags": []
   },
   "outputs": [
    {
     "data": {
      "text/html": [
       "<div>\n",
       "<style scoped>\n",
       "    .dataframe tbody tr th:only-of-type {\n",
       "        vertical-align: middle;\n",
       "    }\n",
       "\n",
       "    .dataframe tbody tr th {\n",
       "        vertical-align: top;\n",
       "    }\n",
       "\n",
       "    .dataframe thead th {\n",
       "        text-align: right;\n",
       "    }\n",
       "</style>\n",
       "<table border=\"1\" class=\"dataframe\">\n",
       "  <thead>\n",
       "    <tr style=\"text-align: right;\">\n",
       "      <th></th>\n",
       "      <th></th>\n",
       "      <th>Number of unique values</th>\n",
       "    </tr>\n",
       "  </thead>\n",
       "  <tbody>\n",
       "    <tr>\n",
       "      <th>0</th>\n",
       "      <td>age</td>\n",
       "      <td>73</td>\n",
       "    </tr>\n",
       "    <tr>\n",
       "      <th>1</th>\n",
       "      <td>workclass</td>\n",
       "      <td>8</td>\n",
       "    </tr>\n",
       "    <tr>\n",
       "      <th>2</th>\n",
       "      <td>fnlwgt</td>\n",
       "      <td>21648</td>\n",
       "    </tr>\n",
       "    <tr>\n",
       "      <th>3</th>\n",
       "      <td>education</td>\n",
       "      <td>16</td>\n",
       "    </tr>\n",
       "    <tr>\n",
       "      <th>4</th>\n",
       "      <td>marital-status</td>\n",
       "      <td>7</td>\n",
       "    </tr>\n",
       "    <tr>\n",
       "      <th>5</th>\n",
       "      <td>occupation</td>\n",
       "      <td>14</td>\n",
       "    </tr>\n",
       "    <tr>\n",
       "      <th>6</th>\n",
       "      <td>relationship</td>\n",
       "      <td>6</td>\n",
       "    </tr>\n",
       "    <tr>\n",
       "      <th>7</th>\n",
       "      <td>race</td>\n",
       "      <td>5</td>\n",
       "    </tr>\n",
       "    <tr>\n",
       "      <th>8</th>\n",
       "      <td>sex</td>\n",
       "      <td>2</td>\n",
       "    </tr>\n",
       "    <tr>\n",
       "      <th>9</th>\n",
       "      <td>capital-gain</td>\n",
       "      <td>119</td>\n",
       "    </tr>\n",
       "    <tr>\n",
       "      <th>10</th>\n",
       "      <td>capital-loss</td>\n",
       "      <td>92</td>\n",
       "    </tr>\n",
       "    <tr>\n",
       "      <th>11</th>\n",
       "      <td>hours-per-week</td>\n",
       "      <td>94</td>\n",
       "    </tr>\n",
       "    <tr>\n",
       "      <th>12</th>\n",
       "      <td>native-country</td>\n",
       "      <td>41</td>\n",
       "    </tr>\n",
       "    <tr>\n",
       "      <th>13</th>\n",
       "      <td>salary</td>\n",
       "      <td>2</td>\n",
       "    </tr>\n",
       "  </tbody>\n",
       "</table>\n",
       "</div>"
      ],
      "text/plain": [
       "                    Number of unique values\n",
       "0              age                       73\n",
       "1        workclass                        8\n",
       "2           fnlwgt                    21648\n",
       "3        education                       16\n",
       "4   marital-status                        7\n",
       "5       occupation                       14\n",
       "6     relationship                        6\n",
       "7             race                        5\n",
       "8              sex                        2\n",
       "9     capital-gain                      119\n",
       "10    capital-loss                       92\n",
       "11  hours-per-week                       94\n",
       "12  native-country                       41\n",
       "13          salary                        2"
      ]
     },
     "execution_count": 488,
     "metadata": {},
     "output_type": "execute_result"
    }
   ],
   "source": [
    "# Number of uniques values in dataframe\n",
    "\n",
    "pd.DataFrame({'': df.nunique().index , 'Number of unique values':  df.nunique().values})"
   ]
  },
  {
   "cell_type": "code",
   "execution_count": 489,
   "id": "32cc18be-5d31-4b2a-834f-2962514936f9",
   "metadata": {
    "id": "nSZB0mn2FhIl",
    "outputId": "1f2a16b9-0f69-4186-9b07-8af27411b244",
    "papermill": {
     "duration": 0.053109,
     "end_time": "2022-10-14T19:20:13.004101",
     "exception": false,
     "start_time": "2022-10-14T19:20:12.950992",
     "status": "completed"
    },
    "tags": []
   },
   "outputs": [
    {
     "name": "stdout",
     "output_type": "stream",
     "text": [
      "age\n",
      "\n",
      "[39 50 38 53 28 37 49 52 31 42 30 23 32 40 34 25 43 54 35 59 56 19 20 45\n",
      " 22 48 21 24 57 44 41 29 18 47 46 36 79 27 67 33 76 17 55 61 70 64 71 68\n",
      " 66 51 58 26 60 90 75 65 77 62 63 80 72 74 69 73 81 78 88 82 83 84 85 86\n",
      " 87]\n",
      "\n",
      " ***********************************\n",
      "\n",
      "workclass\n",
      "\n",
      "[' State-gov' ' Self-emp-not-inc' ' Private' ' Federal-gov' ' Local-gov'\n",
      " nan ' Self-emp-inc' ' Without-pay' ' Never-worked']\n",
      "\n",
      " ***********************************\n",
      "\n",
      "fnlwgt\n",
      "\n",
      "[ 77516  83311 215646 ...  34066  84661 257302]\n",
      "\n",
      " ***********************************\n",
      "\n",
      "education\n",
      "\n",
      "[' Bachelors' ' HS-grad' ' 11th' ' Masters' ' 9th' ' Some-college'\n",
      " ' Assoc-acdm' ' Assoc-voc' ' 7th-8th' ' Doctorate' ' Prof-school'\n",
      " ' 5th-6th' ' 10th' ' 1st-4th' ' Preschool' ' 12th']\n",
      "\n",
      " ***********************************\n",
      "\n",
      "marital-status\n",
      "\n",
      "[' Never-married' ' Married-civ-spouse' ' Divorced'\n",
      " ' Married-spouse-absent' ' Separated' ' Married-AF-spouse' ' Widowed']\n",
      "\n",
      " ***********************************\n",
      "\n",
      "occupation\n",
      "\n",
      "[' Adm-clerical' ' Exec-managerial' ' Handlers-cleaners' ' Prof-specialty'\n",
      " ' Other-service' ' Sales' ' Craft-repair' ' Transport-moving'\n",
      " ' Farming-fishing' ' Machine-op-inspct' ' Tech-support' nan\n",
      " ' Protective-serv' ' Armed-Forces' ' Priv-house-serv']\n",
      "\n",
      " ***********************************\n",
      "\n",
      "relationship\n",
      "\n",
      "[' Not-in-family' ' Husband' ' Wife' ' Own-child' ' Unmarried'\n",
      " ' Other-relative']\n",
      "\n",
      " ***********************************\n",
      "\n",
      "race\n",
      "\n",
      "[' White' ' Black' ' Asian-Pac-Islander' ' Amer-Indian-Eskimo' ' Other']\n",
      "\n",
      " ***********************************\n",
      "\n",
      "sex\n",
      "\n",
      "[' Male' ' Female']\n",
      "\n",
      " ***********************************\n",
      "\n",
      "capital-gain\n",
      "\n",
      "[ 2174     0 14084  5178  5013  2407 14344 15024  7688 34095  4064  4386\n",
      "  7298  1409  3674  1055  3464  2050  2176   594 20051  6849  4101  1111\n",
      "  8614  3411  2597 25236  4650  9386  2463  3103 10605  2964  3325  2580\n",
      "  3471  4865 99999  6514  1471  2329  2105  2885 25124 10520  2202  2961\n",
      " 27828  6767  2228  1506 13550  2635  5556  4787  3781  3137  3818  3942\n",
      "   914   401  2829  2977  4934  2062  2354  5455 15020  1424  3273 22040\n",
      "  4416  3908 10566   991  4931  1086  7430  6497   114  7896  2346  3418\n",
      "  3432  2907  1151  2414  2290 15831 41310  4508  2538  3456  6418  1848\n",
      "  3887  5721  9562  1455  2036  1831 11678  2936  2993  7443  6360  1797\n",
      "  1173  4687  6723  2009  6097  2653  1639 18481  7978  2387  5060]\n",
      "\n",
      " ***********************************\n",
      "\n",
      "capital-loss\n",
      "\n",
      "[   0 2042 1408 1902 1573 1887 1719 1762 1564 2179 1816 1980 1977 1876\n",
      " 1340 2206 1741 1485 2339 2415 1380 1721 2051 2377 1669 2352 1672  653\n",
      " 2392 1504 2001 1590 1651 1628 1848 1740 2002 1579 2258 1602  419 2547\n",
      " 2174 2205 1726 2444 1138 2238  625  213 1539  880 1668 1092 1594 3004\n",
      " 2231 1844  810 2824 2559 2057 1974  974 2149 1825 1735 1258 2129 2603\n",
      " 2282  323 4356 2246 1617 1648 2489 3770 1755 3683 2267 2080 2457  155\n",
      " 3900 2201 1944 2467 2163 2754 2472 1411]\n",
      "\n",
      " ***********************************\n",
      "\n",
      "hours-per-week\n",
      "\n",
      "[40 13 16 45 50 80 30 35 60 20 52 44 15 25 38 43 55 48 58 32 70  2 22 56\n",
      " 41 28 36 24 46 42 12 65  1 10 34 75 98 33 54  8  6 64 19 18 72  5  9 47\n",
      " 37 21 26 14  4 59  7 99 53 39 62 57 78 90 66 11 49 84  3 17 68 27 85 31\n",
      " 51 77 63 23 87 88 73 89 97 94 29 96 67 82 86 91 81 76 92 61 74 95]\n",
      "\n",
      " ***********************************\n",
      "\n",
      "native-country\n",
      "\n",
      "[' United-States' ' Cuba' ' Jamaica' ' India' nan ' Mexico' ' South'\n",
      " ' Puerto-Rico' ' Honduras' ' England' ' Canada' ' Germany' ' Iran'\n",
      " ' Philippines' ' Italy' ' Poland' ' Columbia' ' Cambodia' ' Thailand'\n",
      " ' Ecuador' ' Laos' ' Taiwan' ' Haiti' ' Portugal' ' Dominican-Republic'\n",
      " ' El-Salvador' ' France' ' Guatemala' ' China' ' Japan' ' Yugoslavia'\n",
      " ' Peru' ' Outlying-US(Guam-USVI-etc)' ' Scotland' ' Trinadad&Tobago'\n",
      " ' Greece' ' Nicaragua' ' Vietnam' ' Hong' ' Ireland' ' Hungary'\n",
      " ' Holand-Netherlands']\n",
      "\n",
      " ***********************************\n",
      "\n",
      "salary\n",
      "\n",
      "[' <=50K' ' >50K']\n",
      "\n",
      " ***********************************\n",
      "\n"
     ]
    }
   ],
   "source": [
    "#show unique values for all columns\n",
    "for col in df.columns.values:\n",
    "  print(col, end=\"\\n\\n\")\n",
    "  print(df[col].unique(), end=\"\\n\\n ***********************************\\n\\n\")"
   ]
  },
  {
   "cell_type": "markdown",
   "id": "e9fb0aa1-349d-4010-8394-0d7316d1f181",
   "metadata": {},
   "source": [
    "#### Removing spaces from objects data types"
   ]
  },
  {
   "cell_type": "code",
   "execution_count": 490,
   "id": "a4c2ebe8",
   "metadata": {
    "id": "ZbiZnZCWSIrh",
    "outputId": "a9865a77-b9b5-4a1a-fcda-ba0c0d9c0977",
    "papermill": {
     "duration": 0.055841,
     "end_time": "2022-10-14T19:20:13.076772",
     "exception": false,
     "start_time": "2022-10-14T19:20:13.020931",
     "status": "completed"
    },
    "tags": []
   },
   "outputs": [
    {
     "name": "stderr",
     "output_type": "stream",
     "text": [
      "C:\\Users\\super\\AppData\\Local\\Temp\\ipykernel_20904\\3819551187.py:1: DeprecationWarning:\n",
      "\n",
      "`np.object` is a deprecated alias for the builtin `object`. To silence this warning, use `object` by itself. Doing this will not modify any behavior and is safe. \n",
      "Deprecated in NumPy 1.20; for more details and guidance: https://numpy.org/devdocs/release/1.20.0-notes.html#deprecations\n",
      "\n"
     ]
    },
    {
     "data": {
      "text/plain": [
       "workclass         [ State-gov,  Self-emp-not-inc,  Private,  Fed...\n",
       "education         [ Bachelors,  HS-grad,  11th,  Masters,  9th, ...\n",
       "marital-status    [ Never-married,  Married-civ-spouse,  Divorce...\n",
       "occupation        [ Adm-clerical,  Exec-managerial,  Handlers-cl...\n",
       "relationship      [ Not-in-family,  Husband,  Wife,  Own-child, ...\n",
       "race              [ White,  Black,  Asian-Pac-Islander,  Amer-In...\n",
       "sex                                                [ Male,  Female]\n",
       "native-country    [ United-States,  Cuba,  Jamaica,  India, nan,...\n",
       "salary                                              [ <=50K,  >50K]\n",
       "dtype: object"
      ]
     },
     "execution_count": 490,
     "metadata": {},
     "output_type": "execute_result"
    }
   ],
   "source": [
    "df.loc[: , df.dtypes == np.object].apply(lambda e : e.unique())"
   ]
  },
  {
   "cell_type": "code",
   "execution_count": 491,
   "id": "0ca924ad",
   "metadata": {
    "id": "ptob7GYASIt0",
    "outputId": "2c9f432e-171a-40e2-95b7-b99b43a38d15",
    "papermill": {
     "duration": 0.151951,
     "end_time": "2022-10-14T19:20:13.246066",
     "exception": false,
     "start_time": "2022-10-14T19:20:13.094115",
     "status": "completed"
    },
    "tags": []
   },
   "outputs": [
    {
     "name": "stderr",
     "output_type": "stream",
     "text": [
      "C:\\Users\\super\\AppData\\Local\\Temp\\ipykernel_20904\\1079439496.py:1: DeprecationWarning:\n",
      "\n",
      "`np.object` is a deprecated alias for the builtin `object`. To silence this warning, use `object` by itself. Doing this will not modify any behavior and is safe. \n",
      "Deprecated in NumPy 1.20; for more details and guidance: https://numpy.org/devdocs/release/1.20.0-notes.html#deprecations\n",
      "\n"
     ]
    }
   ],
   "source": [
    "for col in df.loc[: , df.dtypes == np.object].columns:\n",
    "    df[col] = df[col].str.strip()"
   ]
  },
  {
   "cell_type": "code",
   "execution_count": 492,
   "id": "1879a8f2",
   "metadata": {
    "id": "fXGoC0_PFZh3",
    "outputId": "ca4602e4-2db2-46b5-9ecc-3dfdd48a56b0",
    "papermill": {
     "duration": 0.060563,
     "end_time": "2022-10-14T19:20:13.372555",
     "exception": false,
     "start_time": "2022-10-14T19:20:13.311992",
     "status": "completed"
    },
    "tags": []
   },
   "outputs": [
    {
     "data": {
      "text/html": [
       "<div>\n",
       "<style scoped>\n",
       "    .dataframe tbody tr th:only-of-type {\n",
       "        vertical-align: middle;\n",
       "    }\n",
       "\n",
       "    .dataframe tbody tr th {\n",
       "        vertical-align: top;\n",
       "    }\n",
       "\n",
       "    .dataframe thead th {\n",
       "        text-align: right;\n",
       "    }\n",
       "</style>\n",
       "<table border=\"1\" class=\"dataframe\">\n",
       "  <thead>\n",
       "    <tr style=\"text-align: right;\">\n",
       "      <th></th>\n",
       "      <th>count</th>\n",
       "      <th>mean</th>\n",
       "      <th>std</th>\n",
       "      <th>min</th>\n",
       "      <th>25%</th>\n",
       "      <th>50%</th>\n",
       "      <th>75%</th>\n",
       "      <th>max</th>\n",
       "    </tr>\n",
       "  </thead>\n",
       "  <tbody>\n",
       "    <tr>\n",
       "      <th>age</th>\n",
       "      <td>32561.0</td>\n",
       "      <td>38.581647</td>\n",
       "      <td>13.640433</td>\n",
       "      <td>17.0</td>\n",
       "      <td>28.0</td>\n",
       "      <td>37.0</td>\n",
       "      <td>48.0</td>\n",
       "      <td>90.0</td>\n",
       "    </tr>\n",
       "    <tr>\n",
       "      <th>fnlwgt</th>\n",
       "      <td>32561.0</td>\n",
       "      <td>189778.366512</td>\n",
       "      <td>105549.977697</td>\n",
       "      <td>12285.0</td>\n",
       "      <td>117827.0</td>\n",
       "      <td>178356.0</td>\n",
       "      <td>237051.0</td>\n",
       "      <td>1484705.0</td>\n",
       "    </tr>\n",
       "    <tr>\n",
       "      <th>capital-gain</th>\n",
       "      <td>32561.0</td>\n",
       "      <td>1077.648844</td>\n",
       "      <td>7385.292085</td>\n",
       "      <td>0.0</td>\n",
       "      <td>0.0</td>\n",
       "      <td>0.0</td>\n",
       "      <td>0.0</td>\n",
       "      <td>99999.0</td>\n",
       "    </tr>\n",
       "    <tr>\n",
       "      <th>capital-loss</th>\n",
       "      <td>32561.0</td>\n",
       "      <td>87.303830</td>\n",
       "      <td>402.960219</td>\n",
       "      <td>0.0</td>\n",
       "      <td>0.0</td>\n",
       "      <td>0.0</td>\n",
       "      <td>0.0</td>\n",
       "      <td>4356.0</td>\n",
       "    </tr>\n",
       "    <tr>\n",
       "      <th>hours-per-week</th>\n",
       "      <td>32561.0</td>\n",
       "      <td>40.437456</td>\n",
       "      <td>12.347429</td>\n",
       "      <td>1.0</td>\n",
       "      <td>40.0</td>\n",
       "      <td>40.0</td>\n",
       "      <td>45.0</td>\n",
       "      <td>99.0</td>\n",
       "    </tr>\n",
       "  </tbody>\n",
       "</table>\n",
       "</div>"
      ],
      "text/plain": [
       "                  count           mean            std      min       25%  \\\n",
       "age             32561.0      38.581647      13.640433     17.0      28.0   \n",
       "fnlwgt          32561.0  189778.366512  105549.977697  12285.0  117827.0   \n",
       "capital-gain    32561.0    1077.648844    7385.292085      0.0       0.0   \n",
       "capital-loss    32561.0      87.303830     402.960219      0.0       0.0   \n",
       "hours-per-week  32561.0      40.437456      12.347429      1.0      40.0   \n",
       "\n",
       "                     50%       75%        max  \n",
       "age                 37.0      48.0       90.0  \n",
       "fnlwgt          178356.0  237051.0  1484705.0  \n",
       "capital-gain         0.0       0.0    99999.0  \n",
       "capital-loss         0.0       0.0     4356.0  \n",
       "hours-per-week      40.0      45.0       99.0  "
      ]
     },
     "execution_count": 492,
     "metadata": {},
     "output_type": "execute_result"
    }
   ],
   "source": [
    "#some statistical information about data \n",
    "df.describe().T"
   ]
  },
  {
   "cell_type": "code",
   "execution_count": 493,
   "id": "46948320-899c-417a-b078-d487e9721691",
   "metadata": {
    "id": "MmymR7mFL8x8",
    "outputId": "de299aee-137e-4e8d-e6b4-500ef6ed70a8",
    "papermill": {
     "duration": 0.074875,
     "end_time": "2022-10-14T19:20:13.520172",
     "exception": false,
     "start_time": "2022-10-14T19:20:13.445297",
     "status": "completed"
    },
    "tags": []
   },
   "outputs": [
    {
     "data": {
      "text/plain": [
       "age                  0\n",
       "workclass         1836\n",
       "fnlwgt               0\n",
       "education            0\n",
       "marital-status       0\n",
       "occupation        1843\n",
       "relationship         0\n",
       "race                 0\n",
       "sex                  0\n",
       "capital-gain         0\n",
       "capital-loss         0\n",
       "hours-per-week       0\n",
       "native-country     583\n",
       "salary               0\n",
       "dtype: int64"
      ]
     },
     "execution_count": 493,
     "metadata": {},
     "output_type": "execute_result"
    }
   ],
   "source": [
    "df.isnull().sum()"
   ]
  },
  {
   "cell_type": "markdown",
   "id": "44a78d49-8fa5-4829-b9a0-45ee7a23f977",
   "metadata": {},
   "source": [
    "#### Fill NaN values by MODE"
   ]
  },
  {
   "cell_type": "code",
   "execution_count": 494,
   "id": "5c428648",
   "metadata": {
    "id": "vlE7v38hSrZ9",
    "papermill": {
     "duration": 0.041921,
     "end_time": "2022-10-14T19:20:13.580064",
     "exception": false,
     "start_time": "2022-10-14T19:20:13.538143",
     "status": "completed"
    },
    "tags": []
   },
   "outputs": [],
   "source": [
    "df['workclass'].fillna(df['workclass'].mode()[0] , axis=0 ,inplace=True)\n",
    "df['occupation'].fillna(df['occupation'].mode()[0] , axis=0 ,inplace=True)\n",
    "df['native-country'].fillna(df['native-country'].mode()[0] , axis=0 ,inplace=True)"
   ]
  },
  {
   "cell_type": "code",
   "execution_count": 495,
   "id": "ac817f7d",
   "metadata": {
    "id": "kY5ENabjUiq0",
    "outputId": "e1d1d1dc-62a7-44f9-ea48-aeb0b9ae1f5e",
    "papermill": {
     "duration": 0.044886,
     "end_time": "2022-10-14T19:20:13.642932",
     "exception": false,
     "start_time": "2022-10-14T19:20:13.598046",
     "status": "completed"
    },
    "tags": []
   },
   "outputs": [
    {
     "data": {
      "text/plain": [
       "age               0\n",
       "workclass         0\n",
       "fnlwgt            0\n",
       "education         0\n",
       "marital-status    0\n",
       "occupation        0\n",
       "relationship      0\n",
       "race              0\n",
       "sex               0\n",
       "capital-gain      0\n",
       "capital-loss      0\n",
       "hours-per-week    0\n",
       "native-country    0\n",
       "salary            0\n",
       "dtype: int64"
      ]
     },
     "execution_count": 495,
     "metadata": {},
     "output_type": "execute_result"
    }
   ],
   "source": [
    "#check null values again\n",
    "df.isnull().sum()"
   ]
  },
  {
   "cell_type": "markdown",
   "id": "966a78da-7052-40b6-904d-6cd1e6f23ff8",
   "metadata": {},
   "source": [
    "#### Dropping duplicates:"
   ]
  },
  {
   "cell_type": "code",
   "execution_count": 496,
   "id": "5d2bf1e9",
   "metadata": {
    "id": "9DiS8R7ZHRkk",
    "outputId": "47888aa6-239f-4bb9-aefb-6f196886f263",
    "papermill": {
     "duration": 0.066679,
     "end_time": "2022-10-14T19:20:13.727597",
     "exception": false,
     "start_time": "2022-10-14T19:20:13.660918",
     "status": "completed"
    },
    "tags": []
   },
   "outputs": [
    {
     "data": {
      "text/plain": [
       "24"
      ]
     },
     "execution_count": 496,
     "metadata": {},
     "output_type": "execute_result"
    }
   ],
   "source": [
    "#check Duplicates\n",
    "df.duplicated().sum()"
   ]
  },
  {
   "cell_type": "code",
   "execution_count": 497,
   "id": "ef4166c6",
   "metadata": {
    "id": "1C9kcqTjHUP1",
    "outputId": "9ce86556-3711-484b-8cb2-2eaaaea87275",
    "papermill": {
     "duration": 0.067549,
     "end_time": "2022-10-14T19:20:13.814146",
     "exception": false,
     "start_time": "2022-10-14T19:20:13.746597",
     "status": "completed"
    },
    "tags": []
   },
   "outputs": [
    {
     "data": {
      "text/plain": [
       "(32537, 14)"
      ]
     },
     "execution_count": 497,
     "metadata": {},
     "output_type": "execute_result"
    }
   ],
   "source": [
    "#remove duplicate but leave one \n",
    "df.drop_duplicates(keep='first',inplace=True)\n",
    "df.shape"
   ]
  },
  {
   "cell_type": "code",
   "execution_count": 498,
   "id": "6bb1b56a-bdaf-4af2-a21a-e54fe6a532cd",
   "metadata": {},
   "outputs": [
    {
     "data": {
      "text/html": [
       "<div>\n",
       "<style scoped>\n",
       "    .dataframe tbody tr th:only-of-type {\n",
       "        vertical-align: middle;\n",
       "    }\n",
       "\n",
       "    .dataframe tbody tr th {\n",
       "        vertical-align: top;\n",
       "    }\n",
       "\n",
       "    .dataframe thead th {\n",
       "        text-align: right;\n",
       "    }\n",
       "</style>\n",
       "<table border=\"1\" class=\"dataframe\">\n",
       "  <thead>\n",
       "    <tr style=\"text-align: right;\">\n",
       "      <th></th>\n",
       "      <th>age</th>\n",
       "      <th>workclass</th>\n",
       "      <th>fnlwgt</th>\n",
       "      <th>education</th>\n",
       "      <th>marital-status</th>\n",
       "      <th>occupation</th>\n",
       "      <th>relationship</th>\n",
       "      <th>race</th>\n",
       "      <th>sex</th>\n",
       "      <th>capital-gain</th>\n",
       "      <th>capital-loss</th>\n",
       "      <th>hours-per-week</th>\n",
       "      <th>native-country</th>\n",
       "      <th>salary</th>\n",
       "    </tr>\n",
       "  </thead>\n",
       "  <tbody>\n",
       "    <tr>\n",
       "      <th>0</th>\n",
       "      <td>39</td>\n",
       "      <td>State-gov</td>\n",
       "      <td>77516</td>\n",
       "      <td>Bachelors</td>\n",
       "      <td>Never-married</td>\n",
       "      <td>Adm-clerical</td>\n",
       "      <td>Not-in-family</td>\n",
       "      <td>White</td>\n",
       "      <td>Male</td>\n",
       "      <td>2174</td>\n",
       "      <td>0</td>\n",
       "      <td>40</td>\n",
       "      <td>United-States</td>\n",
       "      <td>&lt;=50K</td>\n",
       "    </tr>\n",
       "    <tr>\n",
       "      <th>1</th>\n",
       "      <td>50</td>\n",
       "      <td>Self-emp-not-inc</td>\n",
       "      <td>83311</td>\n",
       "      <td>Bachelors</td>\n",
       "      <td>Married-civ-spouse</td>\n",
       "      <td>Exec-managerial</td>\n",
       "      <td>Husband</td>\n",
       "      <td>White</td>\n",
       "      <td>Male</td>\n",
       "      <td>0</td>\n",
       "      <td>0</td>\n",
       "      <td>13</td>\n",
       "      <td>United-States</td>\n",
       "      <td>&lt;=50K</td>\n",
       "    </tr>\n",
       "    <tr>\n",
       "      <th>2</th>\n",
       "      <td>38</td>\n",
       "      <td>Private</td>\n",
       "      <td>215646</td>\n",
       "      <td>HS-grad</td>\n",
       "      <td>Divorced</td>\n",
       "      <td>Handlers-cleaners</td>\n",
       "      <td>Not-in-family</td>\n",
       "      <td>White</td>\n",
       "      <td>Male</td>\n",
       "      <td>0</td>\n",
       "      <td>0</td>\n",
       "      <td>40</td>\n",
       "      <td>United-States</td>\n",
       "      <td>&lt;=50K</td>\n",
       "    </tr>\n",
       "    <tr>\n",
       "      <th>3</th>\n",
       "      <td>53</td>\n",
       "      <td>Private</td>\n",
       "      <td>234721</td>\n",
       "      <td>11th</td>\n",
       "      <td>Married-civ-spouse</td>\n",
       "      <td>Handlers-cleaners</td>\n",
       "      <td>Husband</td>\n",
       "      <td>Black</td>\n",
       "      <td>Male</td>\n",
       "      <td>0</td>\n",
       "      <td>0</td>\n",
       "      <td>40</td>\n",
       "      <td>United-States</td>\n",
       "      <td>&lt;=50K</td>\n",
       "    </tr>\n",
       "    <tr>\n",
       "      <th>4</th>\n",
       "      <td>28</td>\n",
       "      <td>Private</td>\n",
       "      <td>338409</td>\n",
       "      <td>Bachelors</td>\n",
       "      <td>Married-civ-spouse</td>\n",
       "      <td>Prof-specialty</td>\n",
       "      <td>Wife</td>\n",
       "      <td>Black</td>\n",
       "      <td>Female</td>\n",
       "      <td>0</td>\n",
       "      <td>0</td>\n",
       "      <td>40</td>\n",
       "      <td>Cuba</td>\n",
       "      <td>&lt;=50K</td>\n",
       "    </tr>\n",
       "  </tbody>\n",
       "</table>\n",
       "</div>"
      ],
      "text/plain": [
       "   age         workclass  fnlwgt  education      marital-status  \\\n",
       "0   39         State-gov   77516  Bachelors       Never-married   \n",
       "1   50  Self-emp-not-inc   83311  Bachelors  Married-civ-spouse   \n",
       "2   38           Private  215646    HS-grad            Divorced   \n",
       "3   53           Private  234721       11th  Married-civ-spouse   \n",
       "4   28           Private  338409  Bachelors  Married-civ-spouse   \n",
       "\n",
       "          occupation   relationship   race     sex  capital-gain  \\\n",
       "0       Adm-clerical  Not-in-family  White    Male          2174   \n",
       "1    Exec-managerial        Husband  White    Male             0   \n",
       "2  Handlers-cleaners  Not-in-family  White    Male             0   \n",
       "3  Handlers-cleaners        Husband  Black    Male             0   \n",
       "4     Prof-specialty           Wife  Black  Female             0   \n",
       "\n",
       "   capital-loss  hours-per-week native-country salary  \n",
       "0             0              40  United-States  <=50K  \n",
       "1             0              13  United-States  <=50K  \n",
       "2             0              40  United-States  <=50K  \n",
       "3             0              40  United-States  <=50K  \n",
       "4             0              40           Cuba  <=50K  "
      ]
     },
     "execution_count": 498,
     "metadata": {},
     "output_type": "execute_result"
    }
   ],
   "source": [
    "df.head()"
   ]
  },
  {
   "cell_type": "markdown",
   "id": "e5a8c8bb-dcfa-4f6b-960b-59ad8fcd176b",
   "metadata": {},
   "source": [
    "### Data Visualization:"
   ]
  },
  {
   "cell_type": "code",
   "execution_count": 499,
   "id": "fd5dea28-9dfc-4d0f-8214-bd8bddd1d891",
   "metadata": {},
   "outputs": [],
   "source": [
    "# To put percentage numbers above chart ( With hue , Without hue)\n",
    "def percen (plot, feature):\n",
    "    total = len(feature)\n",
    "    for p in ax.patches:\n",
    "        percentage = '{:.0f}%'.format(100 * p.get_height()/total)\n",
    "        x = p.get_x() + p.get_width() / 2 - 0.05\n",
    "        y = p.get_y() + p.get_height()\n",
    "        ax.annotate(percentage, (x, y), size = 12)\n",
    "    plt.show()\n",
    "\n",
    "def percen_hue(plot, feature, Number_of_categories, hue_categories):\n",
    "    a = [p.get_height() for p in plot.patches]\n",
    "    patch = [p for p in plot.patches]\n",
    "    for i in range(Number_of_categories):\n",
    "        total = feature.value_counts().values[i]\n",
    "        for j in range(hue_categories):\n",
    "            percentage = '{:.0f}%'.format(100 * a[(j*Number_of_categories + i)]/total)\n",
    "            x = patch[(j*Number_of_categories + i)].get_x() + patch[(j*Number_of_categories + i)].get_width() / 2 - 0.15\n",
    "            y = patch[(j*Number_of_categories + i)].get_y() + patch[(j*Number_of_categories + i)].get_height() \n",
    "            ax.annotate(percentage, (x, y), size = 12)\n",
    "    plt.show()"
   ]
  },
  {
   "cell_type": "code",
   "execution_count": 500,
   "id": "8a07963a-2118-42f5-a23c-95cfd74041b6",
   "metadata": {},
   "outputs": [
    {
     "data": {
      "image/png": "[encoded data removed]",
      "text/plain": [
       "<Figure size 1000x500 with 1 Axes>"
      ]
     },
     "metadata": {},
     "output_type": "display_data"
    }
   ],
   "source": [
    "plt.figure(figsize=(10,5))\n",
    "ax = sns.countplot( x=df.workclass , data= df , palette='viridis')\n",
    "ax.set_title('Workclass ratio for all persons')\n",
    "percen(ax , df.salary)"
   ]
  },
  {
   "cell_type": "code",
   "execution_count": 501,
   "id": "75ab3e34-b726-462f-b41f-62c8c8a5c725",
   "metadata": {},
   "outputs": [
    {
     "data": {
      "text/plain": [
       "Text(0.5, 1.0, 'Workclass ratio for Male/Female')"
      ]
     },
     "execution_count": 501,
     "metadata": {},
     "output_type": "execute_result"
    },
    {
     "data": {
      "image/png": "[encoded data removed]",
      "text/plain": [
       "<Figure size 1000x500 with 1 Axes>"
      ]
     },
     "metadata": {},
     "output_type": "display_data"
    }
   ],
   "source": [
    "plt.figure(figsize=(10,5))\n",
    "sns.countplot(data=df, x='sex', hue='workclass', palette='viridis').set_title('Workclass ratio for Male/Female')"
   ]
  },
  {
   "cell_type": "markdown",
   "id": "36864fc3-2203-49a6-b881-cf0dc2c3b693",
   "metadata": {},
   "source": [
    "#### Correlation Heatmap:"
   ]
  },
  {
   "cell_type": "code",
   "execution_count": 533,
   "id": "d9c1ba2d-b075-4867-9f98-6c4496a9b8cf",
   "metadata": {},
   "outputs": [
    {
     "data": {
      "text/plain": [
       "<AxesSubplot:>"
      ]
     },
     "execution_count": 533,
     "metadata": {},
     "output_type": "execute_result"
    },
    {
     "data": {
      "image/png": "[encoded data removed]",
      "text/plain": [
       "<Figure size 900x600 with 2 Axes>"
      ]
     },
     "metadata": {},
     "output_type": "display_data"
    }
   ],
   "source": [
    "# Select the target variable\n",
    "target = 'workclass'\n",
    "\n",
    "# Calculate the correlations with the target variable\n",
    "corr = df.corr()[target]\n",
    "\n",
    "# Drop the target variable itself\n",
    "corr = corr.drop(target)\n",
    "\n",
    "# Set up the matplotlib figure\n",
    "f, ax = plt.subplots(figsize=(9,6))\n",
    "\n",
    "# Generate a custom diverging colormap\n",
    "cmap = sns.diverging_palette(220, 10, as_cmap=True)\n",
    "\n",
    "# Draw the heatmap with the mask and correct aspect ratio\n",
    "sns.heatmap(corr.to_frame(), cmap=cmap, vmax=.3, center=0, square=True, linewidths=.5, cbar_kws={\"shrink\": .5}, annot=True)"
   ]
  },
  {
   "cell_type": "code",
   "execution_count": 507,
   "id": "32d97b5f-8eca-47a1-a1d2-87266e009786",
   "metadata": {},
   "outputs": [
    {
     "data": {
      "text/html": [
       "<div>\n",
       "<style scoped>\n",
       "    .dataframe tbody tr th:only-of-type {\n",
       "        vertical-align: middle;\n",
       "    }\n",
       "\n",
       "    .dataframe tbody tr th {\n",
       "        vertical-align: top;\n",
       "    }\n",
       "\n",
       "    .dataframe thead th {\n",
       "        text-align: right;\n",
       "    }\n",
       "</style>\n",
       "<table border=\"1\" class=\"dataframe\">\n",
       "  <thead>\n",
       "    <tr style=\"text-align: right;\">\n",
       "      <th></th>\n",
       "      <th>age</th>\n",
       "      <th>workclass</th>\n",
       "      <th>fnlwgt</th>\n",
       "      <th>education</th>\n",
       "      <th>marital-status</th>\n",
       "      <th>occupation</th>\n",
       "      <th>relationship</th>\n",
       "      <th>race</th>\n",
       "      <th>sex</th>\n",
       "      <th>capital-gain</th>\n",
       "      <th>capital-loss</th>\n",
       "      <th>hours-per-week</th>\n",
       "      <th>native-country</th>\n",
       "      <th>salary</th>\n",
       "    </tr>\n",
       "  </thead>\n",
       "  <tbody>\n",
       "    <tr>\n",
       "      <th>0</th>\n",
       "      <td>39</td>\n",
       "      <td>State-gov</td>\n",
       "      <td>77516</td>\n",
       "      <td>Bachelors</td>\n",
       "      <td>Never-married</td>\n",
       "      <td>Adm-clerical</td>\n",
       "      <td>Not-in-family</td>\n",
       "      <td>White</td>\n",
       "      <td>Male</td>\n",
       "      <td>2174</td>\n",
       "      <td>0</td>\n",
       "      <td>40</td>\n",
       "      <td>United-States</td>\n",
       "      <td>&lt;=50K</td>\n",
       "    </tr>\n",
       "    <tr>\n",
       "      <th>1</th>\n",
       "      <td>50</td>\n",
       "      <td>Self-emp-not-inc</td>\n",
       "      <td>83311</td>\n",
       "      <td>Bachelors</td>\n",
       "      <td>Married-civ-spouse</td>\n",
       "      <td>Exec-managerial</td>\n",
       "      <td>Husband</td>\n",
       "      <td>White</td>\n",
       "      <td>Male</td>\n",
       "      <td>0</td>\n",
       "      <td>0</td>\n",
       "      <td>13</td>\n",
       "      <td>United-States</td>\n",
       "      <td>&lt;=50K</td>\n",
       "    </tr>\n",
       "    <tr>\n",
       "      <th>2</th>\n",
       "      <td>38</td>\n",
       "      <td>Private</td>\n",
       "      <td>215646</td>\n",
       "      <td>HS-grad</td>\n",
       "      <td>Divorced</td>\n",
       "      <td>Handlers-cleaners</td>\n",
       "      <td>Not-in-family</td>\n",
       "      <td>White</td>\n",
       "      <td>Male</td>\n",
       "      <td>0</td>\n",
       "      <td>0</td>\n",
       "      <td>40</td>\n",
       "      <td>United-States</td>\n",
       "      <td>&lt;=50K</td>\n",
       "    </tr>\n",
       "    <tr>\n",
       "      <th>3</th>\n",
       "      <td>53</td>\n",
       "      <td>Private</td>\n",
       "      <td>234721</td>\n",
       "      <td>11th</td>\n",
       "      <td>Married-civ-spouse</td>\n",
       "      <td>Handlers-cleaners</td>\n",
       "      <td>Husband</td>\n",
       "      <td>Black</td>\n",
       "      <td>Male</td>\n",
       "      <td>0</td>\n",
       "      <td>0</td>\n",
       "      <td>40</td>\n",
       "      <td>United-States</td>\n",
       "      <td>&lt;=50K</td>\n",
       "    </tr>\n",
       "    <tr>\n",
       "      <th>4</th>\n",
       "      <td>28</td>\n",
       "      <td>Private</td>\n",
       "      <td>338409</td>\n",
       "      <td>Bachelors</td>\n",
       "      <td>Married-civ-spouse</td>\n",
       "      <td>Prof-specialty</td>\n",
       "      <td>Wife</td>\n",
       "      <td>Black</td>\n",
       "      <td>Female</td>\n",
       "      <td>0</td>\n",
       "      <td>0</td>\n",
       "      <td>40</td>\n",
       "      <td>Cuba</td>\n",
       "      <td>&lt;=50K</td>\n",
       "    </tr>\n",
       "  </tbody>\n",
       "</table>\n",
       "</div>"
      ],
      "text/plain": [
       "   age         workclass  fnlwgt  education      marital-status  \\\n",
       "0   39         State-gov   77516  Bachelors       Never-married   \n",
       "1   50  Self-emp-not-inc   83311  Bachelors  Married-civ-spouse   \n",
       "2   38           Private  215646    HS-grad            Divorced   \n",
       "3   53           Private  234721       11th  Married-civ-spouse   \n",
       "4   28           Private  338409  Bachelors  Married-civ-spouse   \n",
       "\n",
       "          occupation   relationship   race     sex  capital-gain  \\\n",
       "0       Adm-clerical  Not-in-family  White    Male          2174   \n",
       "1    Exec-managerial        Husband  White    Male             0   \n",
       "2  Handlers-cleaners  Not-in-family  White    Male             0   \n",
       "3  Handlers-cleaners        Husband  Black    Male             0   \n",
       "4     Prof-specialty           Wife  Black  Female             0   \n",
       "\n",
       "   capital-loss  hours-per-week native-country salary  \n",
       "0             0              40  United-States  <=50K  \n",
       "1             0              13  United-States  <=50K  \n",
       "2             0              40  United-States  <=50K  \n",
       "3             0              40  United-States  <=50K  \n",
       "4             0              40           Cuba  <=50K  "
      ]
     },
     "execution_count": 507,
     "metadata": {},
     "output_type": "execute_result"
    }
   ],
   "source": [
    "df.head()"
   ]
  },
  {
   "cell_type": "code",
   "execution_count": 508,
   "id": "9643fcc1",
   "metadata": {
    "id": "bhVNcVcmhdl5",
    "outputId": "a7abc6aa-3711-4ff0-b784-efca28884c5c",
    "papermill": {
     "duration": 0.042541,
     "end_time": "2022-10-14T19:20:15.012416",
     "exception": false,
     "start_time": "2022-10-14T19:20:14.969875",
     "status": "completed"
    },
    "tags": []
   },
   "outputs": [
    {
     "data": {
      "text/plain": [
       "Series([], Name: salary, dtype: object)"
      ]
     },
     "execution_count": 508,
     "metadata": {},
     "output_type": "execute_result"
    }
   ],
   "source": [
    "df[df['sex']==1].salary.value_counts(normalize=True).mul(100).round(0).astype(str) + ' %'"
   ]
  },
  {
   "cell_type": "code",
   "execution_count": 509,
   "id": "c37497ce-ba98-44e8-bded-85afc8e988d6",
   "metadata": {
    "id": "Xs2jduyfhdoc",
    "outputId": "6c3b9306-ce0c-4298-b308-e172b2a8e1ea",
    "papermill": {
     "duration": 0.578956,
     "end_time": "2022-10-14T19:20:15.611803",
     "exception": false,
     "start_time": "2022-10-14T19:20:15.032847",
     "status": "completed"
    },
    "tags": []
   },
   "outputs": [
    {
     "data": {
      "text/plain": [
       "<seaborn.axisgrid.FacetGrid at 0x1ed916cee00>"
      ]
     },
     "execution_count": 509,
     "metadata": {},
     "output_type": "execute_result"
    },
    {
     "data": {
      "image/png": "[encoded data removed]",
      "text/plain": [
       "<Figure size 399.75x300 with 1 Axes>"
      ]
     },
     "metadata": {},
     "output_type": "display_data"
    }
   ],
   "source": [
    "sns.displot(data=df, x=\"age\", hue=\"salary\", kind=\"kde\", height=3, aspect=1)"
   ]
  },
  {
   "cell_type": "code",
   "execution_count": 510,
   "id": "be6a5805-5b0a-479a-aa93-683028ecfd5f",
   "metadata": {
    "id": "pl7Tb5bwhdyV",
    "outputId": "7a9c1d54-0620-41e5-fd7d-441301d7c04d",
    "papermill": {
     "duration": 1.203159,
     "end_time": "2022-10-14T19:20:19.885181",
     "exception": false,
     "start_time": "2022-10-14T19:20:18.682022",
     "status": "completed"
    },
    "tags": []
   },
   "outputs": [
    {
     "data": {
      "image/png": "[encoded data removed]",
      "text/plain": [
       "<Figure size 2000x1500 with 25 Axes>"
      ]
     },
     "metadata": {},
     "output_type": "display_data"
    }
   ],
   "source": [
    "#check outliers\n",
    "df.plot(kind = \"box\" , subplots = True , figsize = (20,15) ,  layout = (5,5))\n",
    "plt.show()"
   ]
  },
  {
   "cell_type": "markdown",
   "id": "04a09862-a4f5-4ebf-b7e0-9404cf8ad970",
   "metadata": {},
   "source": [
    "#### Label Encoding:"
   ]
  },
  {
   "cell_type": "code",
   "execution_count": 511,
   "id": "bc2181b3-7345-4bc7-9f4d-c326a897bc26",
   "metadata": {},
   "outputs": [],
   "source": [
    "le = LabelEncoder()\n",
    "\n",
    "# Select the categorical columns\n",
    "cat_columns = df.select_dtypes(include=[\"object\"]).columns\n",
    "\n",
    "# Apply the LabelEncoder to each categorical column\n",
    "df[cat_columns] = df[cat_columns].apply(lambda col: le.fit_transform(col))"
   ]
  },
  {
   "cell_type": "markdown",
   "id": "bfdbb3b7-64e5-4a08-a0c4-cbcf87c6141c",
   "metadata": {},
   "source": [
    "#### Scaling the values:"
   ]
  },
  {
   "cell_type": "code",
   "execution_count": 512,
   "id": "d2995209-d0a7-4322-b8a6-82e12335da7e",
   "metadata": {},
   "outputs": [],
   "source": [
    "from sklearn.preprocessing import MinMaxScaler\n",
    "scaler = MinMaxScaler()\n",
    "cols = ['age', 'fnlwgt', 'capital-gain', 'capital-loss', 'hours-per-week']\n",
    "scaler.fit(df[cols])\n",
    "df[cols] = scaler.transform(df[cols])"
   ]
  },
  {
   "cell_type": "code",
   "execution_count": 513,
   "id": "8198f1a2-38b9-447c-9eb2-13634355def2",
   "metadata": {},
   "outputs": [],
   "source": [
    "x = df.drop('workclass', axis=1)\n",
    "y = df['workclass']"
   ]
  },
  {
   "cell_type": "code",
   "execution_count": 514,
   "id": "8f6dfe49-0da3-4d50-9be6-3b31d957e6d8",
   "metadata": {
    "id": "9rGjwU-0TjFQ",
    "papermill": {
     "duration": 0.109965,
     "end_time": "2022-10-14T19:20:21.618950",
     "exception": false,
     "start_time": "2022-10-14T19:20:21.508985",
     "status": "completed"
    },
    "tags": []
   },
   "outputs": [],
   "source": [
    "smote=SMOTE(random_state=42)\n",
    "x_resampled, y_resampled = smote.fit_resample(x, y)"
   ]
  },
  {
   "cell_type": "markdown",
   "id": "b0eda338",
   "metadata": {
    "id": "1RBnqBJBb1DJ",
    "papermill": {
     "duration": 0.024803,
     "end_time": "2022-10-14T19:20:22.658961",
     "exception": false,
     "start_time": "2022-10-14T19:20:22.634158",
     "status": "completed"
    },
    "tags": []
   },
   "source": [
    "### Model Building and Training:\n",
    "Algorithm used: `KNN`"
   ]
  },
  {
   "cell_type": "code",
   "execution_count": 524,
   "id": "9464179c",
   "metadata": {
    "id": "L9T5U3AuXWnS",
    "papermill": {
     "duration": 0.033635,
     "end_time": "2022-10-14T19:20:22.769711",
     "exception": false,
     "start_time": "2022-10-14T19:20:22.736076",
     "status": "completed"
    },
    "tags": []
   },
   "outputs": [],
   "source": [
    "from sklearn.neighbors import KNeighborsClassifier\n",
    "clf = KNeighborsClassifier(n_neighbors=5)"
   ]
  },
  {
   "cell_type": "code",
   "execution_count": 525,
   "id": "dca1550f",
   "metadata": {
    "id": "2sY1ILviXWsH",
    "papermill": {
     "duration": 0.049258,
     "end_time": "2022-10-14T19:20:22.844193",
     "exception": false,
     "start_time": "2022-10-14T19:20:22.794935",
     "status": "completed"
    },
    "tags": []
   },
   "outputs": [],
   "source": [
    "x_train, x_test, y_train, y_test = train_test_split(x_resampled, y_resampled, test_size=0.2,random_state=44 )"
   ]
  },
  {
   "cell_type": "code",
   "execution_count": 526,
   "id": "e350470b",
   "metadata": {
    "id": "D-UrD9WrXWun",
    "papermill": {
     "duration": 5.024218,
     "end_time": "2022-10-14T19:20:27.893233",
     "exception": false,
     "start_time": "2022-10-14T19:20:22.869015",
     "status": "completed"
    },
    "tags": []
   },
   "outputs": [],
   "source": [
    "model = clf.fit(x_train, y_train)"
   ]
  },
  {
   "cell_type": "code",
   "execution_count": 527,
   "id": "a2ea958e",
   "metadata": {
    "id": "thtaxTJYXWxG",
    "papermill": {
     "duration": 0.268873,
     "end_time": "2022-10-14T19:20:28.189046",
     "exception": false,
     "start_time": "2022-10-14T19:20:27.920173",
     "status": "completed"
    },
    "tags": []
   },
   "outputs": [],
   "source": [
    "y_pred = model.predict(x_test)"
   ]
  },
  {
   "cell_type": "markdown",
   "id": "3da91d9f-eea8-42ec-8dde-7da4bae10026",
   "metadata": {},
   "source": [
    "#### Accuracy:"
   ]
  },
  {
   "cell_type": "code",
   "execution_count": 528,
   "id": "bdad91e9",
   "metadata": {
    "id": "U5BVjB2odVE8",
    "outputId": "95f93082-5983-4086-8d3d-42ae6cb2794d",
    "papermill": {
     "duration": 0.272393,
     "end_time": "2022-10-14T19:20:28.488647",
     "exception": false,
     "start_time": "2022-10-14T19:20:28.216254",
     "status": "completed"
    },
    "tags": []
   },
   "outputs": [
    {
     "name": "stdout",
     "output_type": "stream",
     "text": [
      "Accuracy on Test Data : 84.25 %\n"
     ]
    }
   ],
   "source": [
    "print(\"Accuracy on Test Data : {:,.2f}\".format(clf.score(x_test , y_test) *100 ) , '%')"
   ]
  },
  {
   "cell_type": "code",
   "execution_count": 529,
   "id": "e08e198f",
   "metadata": {
    "id": "4cFMcjS8XWzu",
    "outputId": "c38ac693-5280-40ef-d23b-323bdd5b8a19",
    "papermill": {
     "duration": 0.036222,
     "end_time": "2022-10-14T19:20:28.550492",
     "exception": false,
     "start_time": "2022-10-14T19:20:28.514270",
     "status": "completed"
    },
    "tags": []
   },
   "outputs": [
    {
     "name": "stdout",
     "output_type": "stream",
     "text": [
      "0.8424837434655107\n"
     ]
    }
   ],
   "source": [
    "print(accuracy_score(y_pred, y_test))"
   ]
  },
  {
   "cell_type": "markdown",
   "id": "060fc8fe-2e17-451d-be43-877f82246b23",
   "metadata": {},
   "source": [
    "#### Confusion Matrix:"
   ]
  },
  {
   "cell_type": "code",
   "execution_count": 530,
   "id": "420e902c",
   "metadata": {
    "id": "yxdDqGO5XW12",
    "outputId": "c3622d9b-c37e-4581-ad3c-2665b1519365",
    "papermill": {
     "duration": 0.03958,
     "end_time": "2022-10-14T19:20:28.615227",
     "exception": false,
     "start_time": "2022-10-14T19:20:28.575647",
     "status": "completed"
    },
    "tags": []
   },
   "outputs": [
    {
     "data": {
      "text/plain": [
       "array([[4408,  116,    1,   66,   43,   43,  117,    2],\n",
       "       [ 245, 4053,    7,  127,   93,   94,  200,    6],\n",
       "       [   0,    0, 4870,    0,    0,    0,    1,    0],\n",
       "       [ 518,  645,   34, 2211,  408,  629,  527,    8],\n",
       "       [  97,  102,    0,   86, 4415,  162,   74,    2],\n",
       "       [ 119,  190,    0,  214,  273, 4141,  126,    4],\n",
       "       [ 215,  243,    1,  145,   80,  109, 4103,    5],\n",
       "       [   0,    0,    0,    0,    0,    0,    0, 4837]], dtype=int64)"
      ]
     },
     "execution_count": 530,
     "metadata": {},
     "output_type": "execute_result"
    }
   ],
   "source": [
    "confusion_matrix(y_test ,y_pred)"
   ]
  },
  {
   "cell_type": "code",
   "execution_count": 531,
   "id": "634ab9c0-175e-4ca0-84a2-c73ffcbac36d",
   "metadata": {
    "id": "1sUEGtggTjFX",
    "outputId": "39ea5c42-ed3e-40c7-cb0e-8bfb279d1f06",
    "papermill": {
     "duration": 0.443066,
     "end_time": "2022-10-14T19:20:29.083393",
     "exception": false,
     "start_time": "2022-10-14T19:20:28.640327",
     "status": "completed"
    },
    "tags": []
   },
   "outputs": [
    {
     "name": "stderr",
     "output_type": "stream",
     "text": [
      "C:\\Users\\super\\AppData\\Local\\Programs\\Python\\Python310\\lib\\site-packages\\sklearn\\utils\\deprecation.py:87: FutureWarning:\n",
      "\n",
      "Function plot_confusion_matrix is deprecated; Function `plot_confusion_matrix` is deprecated in 1.0 and will be removed in 1.2. Use one of the class methods: ConfusionMatrixDisplay.from_predictions or ConfusionMatrixDisplay.from_estimator.\n",
      "\n"
     ]
    },
    {
     "data": {
      "image/png": "[encoded data removed]",
      "text/plain": [
       "<Figure size 640x480 with 2 Axes>"
      ]
     },
     "metadata": {},
     "output_type": "display_data"
    }
   ],
   "source": [
    "plot_confusion_matrix(model, x_test, y_test,cmap='Blues')\n",
    "plt.title('RF: Confusion Matrix', fontsize=14)\n",
    "plt.show()"
   ]
  },
  {
   "cell_type": "code",
   "execution_count": 532,
   "id": "05edef31-94ac-4959-a9b6-446cba678821",
   "metadata": {
    "id": "mkMiy7eFXW4i",
    "outputId": "a96d2de0-8aaf-42a7-a8d6-301c6052e1cc",
    "papermill": {
     "duration": 0.056535,
     "end_time": "2022-10-14T19:20:29.165593",
     "exception": false,
     "start_time": "2022-10-14T19:20:29.109058",
     "status": "completed"
    },
    "tags": []
   },
   "outputs": [
    {
     "name": "stdout",
     "output_type": "stream",
     "text": [
      "              precision    recall  f1-score   support\n",
      "\n",
      "           0       0.79      0.92      0.85      4796\n",
      "           1       0.76      0.84      0.80      4825\n",
      "           2       0.99      1.00      1.00      4871\n",
      "           3       0.78      0.44      0.56      4980\n",
      "           4       0.83      0.89      0.86      4938\n",
      "           5       0.80      0.82      0.81      5067\n",
      "           6       0.80      0.84      0.82      4901\n",
      "           7       0.99      1.00      1.00      4837\n",
      "\n",
      "    accuracy                           0.84     39215\n",
      "   macro avg       0.84      0.84      0.84     39215\n",
      "weighted avg       0.84      0.84      0.84     39215\n",
      "\n"
     ]
    }
   ],
   "source": [
    "print(classification_report(y_test , y_pred))"
   ]
  },
  {
   "cell_type": "markdown",
   "id": "5ff3ef7c-7ca2-48f7-8121-61bd21aedc9c",
   "metadata": {},
   "source": [
    "### Conclusion:\n",
    "Desired task was performed with KNN algorithm with approx. `85%` accuracy."
   ]
  }
 ],
 "metadata": {
  "kernelspec": {
   "display_name": "Python 3 (ipykernel)",
   "language": "python",
   "name": "python3"
  },
  "language_info": {
   "codemirror_mode": {
    "name": "ipython",
    "version": 3
   },
   "file_extension": ".py",
   "mimetype": "text/x-python",
   "name": "python",
   "nbconvert_exporter": "python",
   "pygments_lexer": "ipython3",
   "version": "3.9.13"
  },
  "papermill": {
   "default_parameters": {},
   "duration": 29.619367,
   "end_time": "2022-10-14T19:20:30.164875",
   "environment_variables": {},
   "exception": null,
   "input_path": "__notebook__.ipynb",
   "output_path": "__notebook__.ipynb",
   "parameters": {},
   "start_time": "2022-10-14T19:20:00.545508",
   "version": "2.3.4"
  }
 },
 "nbformat": 4,
 "nbformat_minor": 5
}
