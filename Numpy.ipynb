{
 "cells": [
  {
   "cell_type": "markdown",
   "id": "592d93e8-03b3-49fe-956b-ab12ee87c382",
   "metadata": {},
   "source": [
    "## Aim:\n",
    "Introduction to Numpy"
   ]
  },
  {
   "cell_type": "markdown",
   "id": "e4d77c1a-0e10-4e2f-bfc9-989154e8debd",
   "metadata": {},
   "source": [
    "### What is NumPy?\n",
    "NumPy is a library for the Python programming language, adding support for large, multi-dimensional arrays and matrices, along with a large collection of high-level mathematical functions to operate on these arrays.  \n",
    "\n",
    "It has the following features: \n",
    "1. Powerful N-dimensional arrays  \n",
    "Fast and versatile, the NumPy vectorization, indexing, and broadcasting concepts are the de-facto standards of array computing today.\n",
    "\n",
    "2. Numerical computing tools  \n",
    "NumPy offers comprehensive mathematical functions, random number generators, linear algebra routines, Fourier transforms, and more.\n",
    "\n",
    "3. Interoperable  \n",
    "NumPy supports a wide range of hardware and computing platforms, and plays well with distributed, GPU, and sparse array libraries.\n",
    "\n",
    "4. Performant  \n",
    "The core of NumPy is well-optimized C code. Enjoy the flexibility of Python with the speed of compiled code.\n",
    "\n",
    "5. Easy to use  \n",
    "NumPy’s high level syntax makes it accessible and productive for programmers from any background or experience level.\n",
    "\n",
    "6. Open source"
   ]
  },
  {
   "cell_type": "markdown",
   "id": "e867146e-2e57-495e-9f14-f6944900eda8",
   "metadata": {},
   "source": [
    "#### Advantages over a list:\n",
    "\n",
    "- Consumes less memory.\n",
    "- Fast as compared to the python List.\n",
    "- Convenient to use."
   ]
  },
  {
   "cell_type": "code",
   "execution_count": 43,
   "id": "4ff278a7-a6f8-4b7f-8224-91188403bd52",
   "metadata": {},
   "outputs": [],
   "source": [
    "import numpy as np"
   ]
  },
  {
   "cell_type": "code",
   "execution_count": 111,
   "id": "d878319e-d0e8-4fd6-bf1f-7c65fffe8db7",
   "metadata": {},
   "outputs": [
    {
     "name": "stdout",
     "output_type": "stream",
     "text": [
      "<class 'list'>\n",
      "<class 'numpy.ndarray'>\n"
     ]
    }
   ],
   "source": [
    "a = [1,2,3]\n",
    "b = np.array(a)\n",
    "print(type(a))\n",
    "print(type(b))"
   ]
  },
  {
   "cell_type": "code",
   "execution_count": 112,
   "id": "cc53bda2-a46d-4364-95ba-9a83e5681719",
   "metadata": {},
   "outputs": [
    {
     "name": "stdout",
     "output_type": "stream",
     "text": [
      "<class 'list'>\n",
      "<class 'numpy.ndarray'>\n"
     ]
    }
   ],
   "source": [
    "a = [1,2,3,4,'5']\n",
    "b = np.array(a)\n",
    "print(type(a))\n",
    "print(type(b))"
   ]
  },
  {
   "cell_type": "code",
   "execution_count": 113,
   "id": "0ee2889c-8c22-4fea-8111-1374abb3303d",
   "metadata": {},
   "outputs": [
    {
     "name": "stdout",
     "output_type": "stream",
     "text": [
      "<class 'numpy.str_'>\n"
     ]
    }
   ],
   "source": [
    "#now checking the data type of 5th element\n",
    "print(type(b[4]))"
   ]
  },
  {
   "cell_type": "code",
   "execution_count": 114,
   "id": "0faa1630-3c0b-46a2-922d-a6aadf6b800b",
   "metadata": {},
   "outputs": [
    {
     "name": "stdout",
     "output_type": "stream",
     "text": [
      "<class 'numpy.int64'>\n"
     ]
    }
   ],
   "source": [
    "c= np.array(a, dtype=int)\n",
    "print(type(c[4]))"
   ]
  },
  {
   "cell_type": "code",
   "execution_count": 115,
   "id": "3684ec5f-167f-467e-b9b6-b903c2234f03",
   "metadata": {},
   "outputs": [
    {
     "data": {
      "text/plain": [
       "array([1, 1, 1])"
      ]
     },
     "execution_count": 115,
     "metadata": {},
     "output_type": "execute_result"
    }
   ],
   "source": [
    "arr=np.ones(3,dtype=int)\n",
    "arr"
   ]
  },
  {
   "cell_type": "code",
   "execution_count": 116,
   "id": "6d08d2cd-3c87-4692-aa99-4144269ba8e5",
   "metadata": {},
   "outputs": [
    {
     "data": {
      "text/plain": [
       "array([0, 0, 0])"
      ]
     },
     "execution_count": 116,
     "metadata": {},
     "output_type": "execute_result"
    }
   ],
   "source": [
    "arr1 = np.zeros(3,dtype=int)\n",
    "arr1"
   ]
  },
  {
   "cell_type": "code",
   "execution_count": 117,
   "id": "b2341281-ca72-4475-bbfc-4d7369bf467a",
   "metadata": {},
   "outputs": [
    {
     "data": {
      "text/plain": [
       "array([[1., 0., 0.],\n",
       "       [0., 1., 0.],\n",
       "       [0., 0., 1.]])"
      ]
     },
     "execution_count": 117,
     "metadata": {},
     "output_type": "execute_result"
    }
   ],
   "source": [
    "arr2=np.identity(3)\n",
    "arr2"
   ]
  },
  {
   "cell_type": "code",
   "execution_count": 118,
   "id": "e9ea6a8f-7098-41cf-94dc-181a2f8235a8",
   "metadata": {},
   "outputs": [
    {
     "data": {
      "text/plain": [
       "array([[1., 0., 0.],\n",
       "       [0., 1., 0.],\n",
       "       [0., 0., 1.]])"
      ]
     },
     "execution_count": 118,
     "metadata": {},
     "output_type": "execute_result"
    }
   ],
   "source": [
    "arr3 = np.eye(3)\n",
    "arr3"
   ]
  },
  {
   "cell_type": "code",
   "execution_count": 119,
   "id": "71df057b-4f1a-4678-a45b-ec1ef87f5f49",
   "metadata": {},
   "outputs": [],
   "source": [
    "# arr2 = np.identity(3,4)\n",
    "#this wont work because identity matrix needs to be symmetric"
   ]
  },
  {
   "cell_type": "markdown",
   "id": "91a82617-1af3-4134-8223-07a648bd7807",
   "metadata": {},
   "source": [
    "But we can create a non-square matric using eye"
   ]
  },
  {
   "cell_type": "code",
   "execution_count": 120,
   "id": "e0ed267e-63bc-4e82-9ecb-b89c09c8ab68",
   "metadata": {},
   "outputs": [
    {
     "data": {
      "text/plain": [
       "array([[1., 0., 0., 0.],\n",
       "       [0., 1., 0., 0.],\n",
       "       [0., 0., 1., 0.]])"
      ]
     },
     "execution_count": 120,
     "metadata": {},
     "output_type": "execute_result"
    }
   ],
   "source": [
    "np.eye(3,4)"
   ]
  },
  {
   "cell_type": "code",
   "execution_count": 121,
   "id": "064d6f98-b130-49fb-968d-7a7b18ce2d4e",
   "metadata": {},
   "outputs": [
    {
     "data": {
      "text/plain": [
       "array([5, 5, 5])"
      ]
     },
     "execution_count": 121,
     "metadata": {},
     "output_type": "execute_result"
    }
   ],
   "source": [
    "np.full(3,5)"
   ]
  },
  {
   "cell_type": "code",
   "execution_count": 122,
   "id": "a6046d02-1025-4398-88bb-7b5c4d6efa92",
   "metadata": {},
   "outputs": [
    {
     "data": {
      "text/plain": [
       "array([7, 7, 7, 7])"
      ]
     },
     "execution_count": 122,
     "metadata": {},
     "output_type": "execute_result"
    }
   ],
   "source": [
    "np.full(4,7)"
   ]
  },
  {
   "cell_type": "markdown",
   "id": "cc1b0c99-4b33-47ca-9116-9be1b61c5281",
   "metadata": {},
   "source": [
    "Creating a 2x2 array using the above one:"
   ]
  },
  {
   "cell_type": "code",
   "execution_count": 123,
   "id": "85311ffb-d7d6-42ed-a885-d627940557bc",
   "metadata": {},
   "outputs": [
    {
     "data": {
      "text/plain": [
       "array([[5, 5, 5],\n",
       "       [5, 5, 5],\n",
       "       [5, 5, 5]])"
      ]
     },
     "execution_count": 123,
     "metadata": {},
     "output_type": "execute_result"
    }
   ],
   "source": [
    "np.full((3,3),5)"
   ]
  },
  {
   "cell_type": "markdown",
   "id": "e5a0ae46-aad6-40b3-8d4d-9b20e97c89bd",
   "metadata": {},
   "source": [
    "### np.arange()\n",
    "syntax: `np.arange(start, stop, step, dtype)`"
   ]
  },
  {
   "cell_type": "code",
   "execution_count": 124,
   "id": "575e0325-3c75-48b8-b3e5-ba41d2d356b3",
   "metadata": {},
   "outputs": [
    {
     "data": {
      "text/plain": [
       "array([0, 1, 2, 3, 4, 5, 6, 7, 8, 9])"
      ]
     },
     "execution_count": 124,
     "metadata": {},
     "output_type": "execute_result"
    }
   ],
   "source": [
    "np.arange(10)"
   ]
  },
  {
   "cell_type": "code",
   "execution_count": 125,
   "id": "7cec26a2-572a-454f-bded-e39c5e2fc197",
   "metadata": {},
   "outputs": [
    {
     "data": {
      "text/plain": [
       "array([5, 6, 7, 8])"
      ]
     },
     "execution_count": 125,
     "metadata": {},
     "output_type": "execute_result"
    }
   ],
   "source": [
    "np.arange(5,9)"
   ]
  },
  {
   "cell_type": "code",
   "execution_count": 126,
   "id": "227c056b-5fff-4b32-8d2b-bcdad915a5ef",
   "metadata": {},
   "outputs": [
    {
     "data": {
      "text/plain": [
       "array([ 2,  4,  6,  8, 10, 12, 14, 16, 18])"
      ]
     },
     "execution_count": 126,
     "metadata": {},
     "output_type": "execute_result"
    }
   ],
   "source": [
    "np.arange(2,20,2)"
   ]
  },
  {
   "cell_type": "code",
   "execution_count": 127,
   "id": "740bc750-5499-4a29-bf98-6fffa48dbe64",
   "metadata": {},
   "outputs": [
    {
     "data": {
      "text/plain": [
       "array([ 2.,  4.,  6.,  8., 10., 12., 14., 16., 18.])"
      ]
     },
     "execution_count": 127,
     "metadata": {},
     "output_type": "execute_result"
    }
   ],
   "source": [
    "np.arange(2,20,2,float)"
   ]
  },
  {
   "cell_type": "code",
   "execution_count": 128,
   "id": "429affac-d0ab-44cb-a39e-7f102fe559e7",
   "metadata": {},
   "outputs": [
    {
     "data": {
      "text/plain": [
       "array([0.        , 0.18367347, 0.36734694, 0.55102041, 0.73469388,\n",
       "       0.91836735, 1.10204082, 1.28571429, 1.46938776, 1.65306122,\n",
       "       1.83673469, 2.02040816, 2.20408163, 2.3877551 , 2.57142857,\n",
       "       2.75510204, 2.93877551, 3.12244898, 3.30612245, 3.48979592,\n",
       "       3.67346939, 3.85714286, 4.04081633, 4.2244898 , 4.40816327,\n",
       "       4.59183673, 4.7755102 , 4.95918367, 5.14285714, 5.32653061,\n",
       "       5.51020408, 5.69387755, 5.87755102, 6.06122449, 6.24489796,\n",
       "       6.42857143, 6.6122449 , 6.79591837, 6.97959184, 7.16326531,\n",
       "       7.34693878, 7.53061224, 7.71428571, 7.89795918, 8.08163265,\n",
       "       8.26530612, 8.44897959, 8.63265306, 8.81632653, 9.        ])"
      ]
     },
     "execution_count": 128,
     "metadata": {},
     "output_type": "execute_result"
    }
   ],
   "source": [
    "np.linspace(0,9)\n",
    "#by default 50 samples are generated"
   ]
  },
  {
   "cell_type": "code",
   "execution_count": 129,
   "id": "e1149384-efc6-4917-b6a9-8d9903294969",
   "metadata": {},
   "outputs": [
    {
     "data": {
      "text/plain": [
       "array([ 5. ,  7.5, 10. , 12.5, 15. , 17.5, 20. ])"
      ]
     },
     "execution_count": 129,
     "metadata": {},
     "output_type": "execute_result"
    }
   ],
   "source": [
    "np.linspace(5,20,7)"
   ]
  },
  {
   "cell_type": "code",
   "execution_count": 130,
   "id": "a83e9036-63c2-4417-8ad8-dc651c35924c",
   "metadata": {},
   "outputs": [
    {
     "data": {
      "text/plain": [
       "array([-10.        ,  -8.33333333,  -6.66666667,  -5.        ,\n",
       "        -3.33333333,  -1.66666667,   0.        ,   1.66666667,\n",
       "         3.33333333,   5.        ])"
      ]
     },
     "execution_count": 130,
     "metadata": {},
     "output_type": "execute_result"
    }
   ],
   "source": [
    "#by default the end point is included in the result\n",
    "np.linspace(-10,5,10,endpoint=True)"
   ]
  },
  {
   "cell_type": "code",
   "execution_count": 101,
   "id": "8f16482a-ed0d-4e36-be58-287f02d32897",
   "metadata": {},
   "outputs": [
    {
     "data": {
      "text/plain": [
       "array([-10. ,  -8.5,  -7. ,  -5.5,  -4. ,  -2.5,  -1. ,   0.5,   2. ,\n",
       "         3.5])"
      ]
     },
     "execution_count": 101,
     "metadata": {},
     "output_type": "execute_result"
    }
   ],
   "source": [
    "#excluding the end point\n",
    "np.linspace(-10,5,10,endpoint=False)"
   ]
  },
  {
   "cell_type": "code",
   "execution_count": 110,
   "id": "526d6ca4-ce2c-4408-a64d-1e632f676af0",
   "metadata": {},
   "outputs": [
    {
     "data": {
      "text/plain": [
       "array([[0.48430904, 0.45172127, 0.51882281, 0.7813788 , 0.256045  ,\n",
       "        0.25259297, 0.71034435, 0.83194907, 0.23498478, 0.08008148],\n",
       "       [0.60868668, 0.79364399, 0.70939336, 0.01093018, 0.25872202,\n",
       "        0.58524117, 0.72522345, 0.18477845, 0.15224051, 0.22354685]])"
      ]
     },
     "execution_count": 110,
     "metadata": {},
     "output_type": "execute_result"
    }
   ],
   "source": [
    "#creates random array with numbers b/w 0 and 1\n",
    "np.random.rand(2,10)  #to create a 2x10 array"
   ]
  },
  {
   "cell_type": "code",
   "execution_count": null,
   "id": "8aeb2e80-e7c0-4405-ad37-b27d2c110bcc",
   "metadata": {},
   "outputs": [],
   "source": []
  }
 ],
 "metadata": {
  "kernelspec": {
   "display_name": "Python 3 (ipykernel)",
   "language": "python",
   "name": "python3"
  },
  "language_info": {
   "codemirror_mode": {
    "name": "ipython",
    "version": 3
   },
   "file_extension": ".py",
   "mimetype": "text/x-python",
   "name": "python",
   "nbconvert_exporter": "python",
   "pygments_lexer": "ipython3",
   "version": "3.10.6"
  }
 },
 "nbformat": 4,
 "nbformat_minor": 5
}
