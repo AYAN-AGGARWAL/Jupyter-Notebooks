{
 "cells": [
  {
   "cell_type": "markdown",
   "id": "5a83369e-824c-453c-8361-f7f4467c2b94",
   "metadata": {},
   "source": [
    "## **EXPERIMENT-**\n",
    "## Aim:\n",
    "Age Prediction\n",
    "> By Training CNN with dataset  \n",
    "\n",
    "Dataset consists of 19k+ images of Actors  \n",
    "Dataset also includes a CSV file containing info about whether the actor in the image is `old`, `middle aged` or `young` to verify"
   ]
  },
  {
   "cell_type": "markdown",
   "id": "17e5677c-d640-4fbf-aae9-c08604593f6d",
   "metadata": {},
   "source": [
    "#### Importing the libraries:"
   ]
  },
  {
   "cell_type": "code",
   "execution_count": null,
   "id": "f85b71a3",
   "metadata": {
    "papermill": {
     "duration": 5.692899,
     "end_time": "2022-12-20T01:05:58.852767",
     "exception": false,
     "start_time": "2022-12-20T01:05:53.159868",
     "status": "completed"
    },
    "tags": []
   },
   "outputs": [],
   "source": [
    "import pandas as pd\n",
    "import numpy as np\n",
    "import tensorflow as tf\n",
    "import glob\n",
    "import os\n",
    "import seaborn as sns \n",
    "from matplotlib import pyplot as plt\n",
    "from sklearn import metrics\n",
    "from sklearn.metrics import confusion_matrix"
   ]
  },
  {
   "cell_type": "markdown",
   "id": "0dd7a2eb-918c-4ca4-8b20-6d8bb64cdbbf",
   "metadata": {},
   "source": [
    "### Checking availability of GPU:"
   ]
  },
  {
   "cell_type": "code",
   "execution_count": null,
   "id": "a245fa26-6f39-48ff-9f35-0f1f5c1c93d9",
   "metadata": {},
   "outputs": [],
   "source": [
    "print(\"Num GPUs Available: \", len(tf.config.experimental.list_physical_devices('GPU')))"
   ]
  },
  {
   "cell_type": "code",
   "execution_count": 2,
   "id": "f4bfc686",
   "metadata": {
    "execution": {
     "iopub.execute_input": "2022-12-20T01:05:58.864570Z",
     "iopub.status.busy": "2022-12-20T01:05:58.864066Z",
     "iopub.status.idle": "2022-12-20T01:05:58.909819Z",
     "shell.execute_reply": "2022-12-20T01:05:58.908998Z"
    },
    "papermill": {
     "duration": 0.053961,
     "end_time": "2022-12-20T01:05:58.911996",
     "exception": false,
     "start_time": "2022-12-20T01:05:58.858035",
     "status": "completed"
    },
    "tags": []
   },
   "outputs": [
    {
     "data": {
      "text/html": [
       "<div>\n",
       "<style scoped>\n",
       "    .dataframe tbody tr th:only-of-type {\n",
       "        vertical-align: middle;\n",
       "    }\n",
       "\n",
       "    .dataframe tbody tr th {\n",
       "        vertical-align: top;\n",
       "    }\n",
       "\n",
       "    .dataframe thead th {\n",
       "        text-align: right;\n",
       "    }\n",
       "</style>\n",
       "<table border=\"1\" class=\"dataframe\">\n",
       "  <thead>\n",
       "    <tr style=\"text-align: right;\">\n",
       "      <th></th>\n",
       "      <th>ID</th>\n",
       "      <th>Class</th>\n",
       "    </tr>\n",
       "  </thead>\n",
       "  <tbody>\n",
       "    <tr>\n",
       "      <th>0</th>\n",
       "      <td>377.jpg</td>\n",
       "      <td>MIDDLE</td>\n",
       "    </tr>\n",
       "    <tr>\n",
       "      <th>1</th>\n",
       "      <td>17814.jpg</td>\n",
       "      <td>YOUNG</td>\n",
       "    </tr>\n",
       "    <tr>\n",
       "      <th>2</th>\n",
       "      <td>21283.jpg</td>\n",
       "      <td>MIDDLE</td>\n",
       "    </tr>\n",
       "    <tr>\n",
       "      <th>3</th>\n",
       "      <td>16496.jpg</td>\n",
       "      <td>YOUNG</td>\n",
       "    </tr>\n",
       "    <tr>\n",
       "      <th>4</th>\n",
       "      <td>4487.jpg</td>\n",
       "      <td>MIDDLE</td>\n",
       "    </tr>\n",
       "  </tbody>\n",
       "</table>\n",
       "</div>"
      ],
      "text/plain": [
       "          ID   Class\n",
       "0    377.jpg  MIDDLE\n",
       "1  17814.jpg   YOUNG\n",
       "2  21283.jpg  MIDDLE\n",
       "3  16496.jpg   YOUNG\n",
       "4   4487.jpg  MIDDLE"
      ]
     },
     "execution_count": 2,
     "metadata": {},
     "output_type": "execute_result"
    }
   ],
   "source": [
    "# read the csv file to check out the images and class\n",
    "data = pd.read_csv(\"/kaggle/input/faces-age-detection-dataset/train.csv\")\n",
    "data.head()"
   ]
  },
  {
   "cell_type": "code",
   "execution_count": 3,
   "id": "f5f03e5f",
   "metadata": {
    "execution": {
     "iopub.execute_input": "2022-12-20T01:05:58.923660Z",
     "iopub.status.busy": "2022-12-20T01:05:58.922854Z",
     "iopub.status.idle": "2022-12-20T01:05:58.940953Z",
     "shell.execute_reply": "2022-12-20T01:05:58.939941Z"
    },
    "papermill": {
     "duration": 0.026054,
     "end_time": "2022-12-20T01:05:58.943083",
     "exception": false,
     "start_time": "2022-12-20T01:05:58.917029",
     "status": "completed"
    },
    "tags": []
   },
   "outputs": [
    {
     "data": {
      "text/html": [
       "<div>\n",
       "<style scoped>\n",
       "    .dataframe tbody tr th:only-of-type {\n",
       "        vertical-align: middle;\n",
       "    }\n",
       "\n",
       "    .dataframe tbody tr th {\n",
       "        vertical-align: top;\n",
       "    }\n",
       "\n",
       "    .dataframe thead th {\n",
       "        text-align: right;\n",
       "    }\n",
       "</style>\n",
       "<table border=\"1\" class=\"dataframe\">\n",
       "  <thead>\n",
       "    <tr style=\"text-align: right;\">\n",
       "      <th></th>\n",
       "      <th>ID</th>\n",
       "      <th>Class</th>\n",
       "    </tr>\n",
       "  </thead>\n",
       "  <tbody>\n",
       "    <tr>\n",
       "      <th>0</th>\n",
       "      <td>377.jpg</td>\n",
       "      <td>1</td>\n",
       "    </tr>\n",
       "    <tr>\n",
       "      <th>1</th>\n",
       "      <td>17814.jpg</td>\n",
       "      <td>0</td>\n",
       "    </tr>\n",
       "    <tr>\n",
       "      <th>2</th>\n",
       "      <td>21283.jpg</td>\n",
       "      <td>1</td>\n",
       "    </tr>\n",
       "  </tbody>\n",
       "</table>\n",
       "</div>"
      ],
      "text/plain": [
       "          ID  Class\n",
       "0    377.jpg      1\n",
       "1  17814.jpg      0\n",
       "2  21283.jpg      1"
      ]
     },
     "execution_count": 3,
     "metadata": {},
     "output_type": "execute_result"
    }
   ],
   "source": [
    "data['Class'].replace(['YOUNG','MIDDLE','OLD'],[0,1,2],inplace=True)\n",
    "data.head(3)"
   ]
  },
  {
   "cell_type": "code",
   "execution_count": 4,
   "id": "9c7a4d2e",
   "metadata": {
    "execution": {
     "iopub.execute_input": "2022-12-20T01:05:58.954659Z",
     "iopub.status.busy": "2022-12-20T01:05:58.954385Z",
     "iopub.status.idle": "2022-12-20T01:05:58.959656Z",
     "shell.execute_reply": "2022-12-20T01:05:58.958644Z"
    },
    "papermill": {
     "duration": 0.01351,
     "end_time": "2022-12-20T01:05:58.961918",
     "exception": false,
     "start_time": "2022-12-20T01:05:58.948408",
     "status": "completed"
    },
    "tags": []
   },
   "outputs": [],
   "source": [
    "def readImage(path,ch = 3, resize=(150,150)):\n",
    "\tdi = tf.io.read_file(path)\n",
    "\tdi = tf.image.decode_jpeg(di, channels=ch)\n",
    "\tdi = tf.image.convert_image_dtype(di, dtype=tf.float32)\n",
    "\tdi = tf.image.resize(di, resize)\n",
    "\treturn di"
   ]
  },
  {
   "cell_type": "code",
   "execution_count": 5,
   "id": "6dfbaf8f",
   "metadata": {
    "execution": {
     "iopub.execute_input": "2022-12-20T01:05:58.973209Z",
     "iopub.status.busy": "2022-12-20T01:05:58.972948Z",
     "iopub.status.idle": "2022-12-20T01:05:58.977116Z",
     "shell.execute_reply": "2022-12-20T01:05:58.976239Z"
    },
    "papermill": {
     "duration": 0.012152,
     "end_time": "2022-12-20T01:05:58.979170",
     "exception": false,
     "start_time": "2022-12-20T01:05:58.967018",
     "status": "completed"
    },
    "tags": []
   },
   "outputs": [],
   "source": [
    "# function to load the data that includes images and respective labels\n",
    "def load_data(image_path, label):\n",
    "    img = readImage(image_path, 3, (150,150))\n",
    "    return (img, label)"
   ]
  },
  {
   "cell_type": "code",
   "execution_count": 6,
   "id": "87ead22a",
   "metadata": {
    "execution": {
     "iopub.execute_input": "2022-12-20T01:05:58.990606Z",
     "iopub.status.busy": "2022-12-20T01:05:58.990024Z",
     "iopub.status.idle": "2022-12-20T01:06:32.543822Z",
     "shell.execute_reply": "2022-12-20T01:06:32.542873Z"
    },
    "papermill": {
     "duration": 33.568307,
     "end_time": "2022-12-20T01:06:32.552511",
     "exception": false,
     "start_time": "2022-12-20T01:05:58.984204",
     "status": "completed"
    },
    "tags": []
   },
   "outputs": [
    {
     "name": "stdout",
     "output_type": "stream",
     "text": [
      "19906\n",
      "19906\n"
     ]
    }
   ],
   "source": [
    "# built the list of image paths and list of respective responses of the images\n",
    "PATH = \"/kaggle/input/faces-age-detection-dataset/Train\"\n",
    "image_paths = []\n",
    "for path in os.listdir(PATH):\n",
    "    image_paths.append(PATH+\"/\"+path)\n",
    "print(len(image_paths))\n",
    "\n",
    "response_list = []\n",
    "\n",
    "for i in image_paths:\n",
    "    _,tail = os.path.split(i)\n",
    "    response = data.loc[data['ID'] == tail]['Class'].values[0]\n",
    "    response_list.append(response)\n",
    "print(len(response_list))"
   ]
  },
  {
   "cell_type": "code",
   "execution_count": 7,
   "id": "43b92db6",
   "metadata": {
    "execution": {
     "iopub.execute_input": "2022-12-20T01:06:32.564174Z",
     "iopub.status.busy": "2022-12-20T01:06:32.563886Z",
     "iopub.status.idle": "2022-12-20T01:06:35.407592Z",
     "shell.execute_reply": "2022-12-20T01:06:35.406680Z"
    },
    "papermill": {
     "duration": 2.852061,
     "end_time": "2022-12-20T01:06:35.409842",
     "exception": false,
     "start_time": "2022-12-20T01:06:32.557781",
     "status": "completed"
    },
    "tags": []
   },
   "outputs": [
    {
     "name": "stdout",
     "output_type": "stream",
     "text": [
      "17915\n"
     ]
    },
    {
     "name": "stderr",
     "output_type": "stream",
     "text": [
      "2022-12-20 01:06:32.679422: I tensorflow/stream_executor/cuda/cuda_gpu_executor.cc:937] successful NUMA node read from SysFS had negative value (-1), but there must be at least one NUMA node, so returning NUMA node zero\n",
      "2022-12-20 01:06:32.789824: I tensorflow/stream_executor/cuda/cuda_gpu_executor.cc:937] successful NUMA node read from SysFS had negative value (-1), but there must be at least one NUMA node, so returning NUMA node zero\n",
      "2022-12-20 01:06:32.790606: I tensorflow/stream_executor/cuda/cuda_gpu_executor.cc:937] successful NUMA node read from SysFS had negative value (-1), but there must be at least one NUMA node, so returning NUMA node zero\n",
      "2022-12-20 01:06:32.793040: I tensorflow/core/platform/cpu_feature_guard.cc:142] This TensorFlow binary is optimized with oneAPI Deep Neural Network Library (oneDNN) to use the following CPU instructions in performance-critical operations:  AVX2 AVX512F FMA\n",
      "To enable them in other operations, rebuild TensorFlow with the appropriate compiler flags.\n",
      "2022-12-20 01:06:32.793368: I tensorflow/stream_executor/cuda/cuda_gpu_executor.cc:937] successful NUMA node read from SysFS had negative value (-1), but there must be at least one NUMA node, so returning NUMA node zero\n",
      "2022-12-20 01:06:32.794080: I tensorflow/stream_executor/cuda/cuda_gpu_executor.cc:937] successful NUMA node read from SysFS had negative value (-1), but there must be at least one NUMA node, so returning NUMA node zero\n",
      "2022-12-20 01:06:32.794779: I tensorflow/stream_executor/cuda/cuda_gpu_executor.cc:937] successful NUMA node read from SysFS had negative value (-1), but there must be at least one NUMA node, so returning NUMA node zero\n",
      "2022-12-20 01:06:34.897923: I tensorflow/stream_executor/cuda/cuda_gpu_executor.cc:937] successful NUMA node read from SysFS had negative value (-1), but there must be at least one NUMA node, so returning NUMA node zero\n",
      "2022-12-20 01:06:34.898793: I tensorflow/stream_executor/cuda/cuda_gpu_executor.cc:937] successful NUMA node read from SysFS had negative value (-1), but there must be at least one NUMA node, so returning NUMA node zero\n",
      "2022-12-20 01:06:34.899539: I tensorflow/stream_executor/cuda/cuda_gpu_executor.cc:937] successful NUMA node read from SysFS had negative value (-1), but there must be at least one NUMA node, so returning NUMA node zero\n",
      "2022-12-20 01:06:34.900120: I tensorflow/core/common_runtime/gpu/gpu_device.cc:1510] Created device /job:localhost/replica:0/task:0/device:GPU:0 with 15401 MB memory:  -> device: 0, name: Tesla P100-PCIE-16GB, pci bus id: 0000:00:04.0, compute capability: 6.0\n"
     ]
    }
   ],
   "source": [
    "# split the dataset into train and test dataset\n",
    "train_size = int(0.9*(len(image_paths)))\n",
    "print(train_size)\n",
    "test_size = int(0.1*(len(image_paths)))\n",
    "\n",
    "train_set = tf.data.Dataset.from_tensor_slices((image_paths[:train_size], response_list[:train_size]))\n",
    "test_set = tf.data.Dataset.from_tensor_slices((image_paths[test_size:], response_list[test_size:]))"
   ]
  },
  {
   "cell_type": "code",
   "execution_count": 8,
   "id": "1c861236",
   "metadata": {
    "execution": {
     "iopub.execute_input": "2022-12-20T01:06:35.422405Z",
     "iopub.status.busy": "2022-12-20T01:06:35.422107Z",
     "iopub.status.idle": "2022-12-20T01:06:35.538793Z",
     "shell.execute_reply": "2022-12-20T01:06:35.537918Z"
    },
    "papermill": {
     "duration": 0.125335,
     "end_time": "2022-12-20T01:06:35.541080",
     "exception": false,
     "start_time": "2022-12-20T01:06:35.415745",
     "status": "completed"
    },
    "tags": []
   },
   "outputs": [],
   "source": [
    "train_set = (train_set\n",
    "    .map(load_data, num_parallel_calls=tf.data.AUTOTUNE)\n",
    "    .batch(64)\n",
    "    .prefetch(tf.data.AUTOTUNE)\n",
    ")"
   ]
  },
  {
   "cell_type": "code",
   "execution_count": 9,
   "id": "e2253bf2",
   "metadata": {
    "execution": {
     "iopub.execute_input": "2022-12-20T01:06:35.553196Z",
     "iopub.status.busy": "2022-12-20T01:06:35.552921Z",
     "iopub.status.idle": "2022-12-20T01:06:35.567657Z",
     "shell.execute_reply": "2022-12-20T01:06:35.566850Z"
    },
    "papermill": {
     "duration": 0.023174,
     "end_time": "2022-12-20T01:06:35.569732",
     "exception": false,
     "start_time": "2022-12-20T01:06:35.546558",
     "status": "completed"
    },
    "tags": []
   },
   "outputs": [],
   "source": [
    "test_set = (test_set\n",
    "    .map(load_data, num_parallel_calls=tf.data.AUTOTUNE)\n",
    "    .batch(64)\n",
    "    .prefetch(tf.data.AUTOTUNE)\n",
    ")"
   ]
  },
  {
   "cell_type": "code",
   "execution_count": 10,
   "id": "dad4422b",
   "metadata": {
    "execution": {
     "iopub.execute_input": "2022-12-20T01:06:35.581545Z",
     "iopub.status.busy": "2022-12-20T01:06:35.581258Z",
     "iopub.status.idle": "2022-12-20T01:06:36.407618Z",
     "shell.execute_reply": "2022-12-20T01:06:36.406676Z"
    },
    "papermill": {
     "duration": 0.834863,
     "end_time": "2022-12-20T01:06:36.409957",
     "exception": false,
     "start_time": "2022-12-20T01:06:35.575094",
     "status": "completed"
    },
    "tags": []
   },
   "outputs": [],
   "source": [
    "# build the layers of CNN model\n",
    "from tensorflow.keras import layers,models\n",
    "\n",
    "cnn_model = models.Sequential([\n",
    "    layers.Conv2D(filters=30, kernel_size=(3, 3), activation='relu', input_shape=(150, 150, 3), padding = 'same'),\n",
    "    layers.MaxPooling2D((2, 2)),\n",
    "    \n",
    "    # layers.BatchNormalization(),\n",
    "\n",
    "    layers.Conv2D(filters=64, kernel_size=(3, 3), activation='relu', padding = 'same'),\n",
    "    layers.MaxPooling2D((2, 2)),\n",
    "\n",
    "    # layers.BatchNormalization(),\n",
    "    \n",
    "    # layers.Conv2D(filters=128, kernel_size=(3, 3), activation='relu', padding = 'same'),\n",
    "    # layers.MaxPooling2D((2, 2)),\n",
    "    \n",
    "    layers.Flatten(),\n",
    "    layers.Dense(64, activation='relu'),\n",
    "    # layers.Dropout(0.25),\n",
    "    layers.Dense(3, activation='softmax')\n",
    "])"
   ]
  },
  {
   "cell_type": "markdown",
   "id": "d8acbefd-e684-4cd3-b87e-053658eb3151",
   "metadata": {},
   "source": [
    "#### view the summary of the CNN model\n"
   ]
  },
  {
   "cell_type": "code",
   "execution_count": 11,
   "id": "0b68f033",
   "metadata": {
    "execution": {
     "iopub.execute_input": "2022-12-20T01:06:36.423440Z",
     "iopub.status.busy": "2022-12-20T01:06:36.421995Z",
     "iopub.status.idle": "2022-12-20T01:06:36.429712Z",
     "shell.execute_reply": "2022-12-20T01:06:36.428826Z"
    },
    "papermill": {
     "duration": 0.016006,
     "end_time": "2022-12-20T01:06:36.431603",
     "exception": false,
     "start_time": "2022-12-20T01:06:36.415597",
     "status": "completed"
    },
    "tags": []
   },
   "outputs": [
    {
     "name": "stdout",
     "output_type": "stream",
     "text": [
      "Model: \"sequential\"\n",
      "_________________________________________________________________\n",
      "Layer (type)                 Output Shape              Param #   \n",
      "=================================================================\n",
      "conv2d (Conv2D)              (None, 150, 150, 30)      840       \n",
      "_________________________________________________________________\n",
      "max_pooling2d (MaxPooling2D) (None, 75, 75, 30)        0         \n",
      "_________________________________________________________________\n",
      "conv2d_1 (Conv2D)            (None, 75, 75, 64)        17344     \n",
      "_________________________________________________________________\n",
      "max_pooling2d_1 (MaxPooling2 (None, 37, 37, 64)        0         \n",
      "_________________________________________________________________\n",
      "flatten (Flatten)            (None, 87616)             0         \n",
      "_________________________________________________________________\n",
      "dense (Dense)                (None, 64)                5607488   \n",
      "_________________________________________________________________\n",
      "dense_1 (Dense)              (None, 3)                 195       \n",
      "=================================================================\n",
      "Total params: 5,625,867\n",
      "Trainable params: 5,625,867\n",
      "Non-trainable params: 0\n",
      "_________________________________________________________________\n"
     ]
    }
   ],
   "source": [
    "cnn_model.summary()"
   ]
  },
  {
   "cell_type": "markdown",
   "id": "6adc7238-d597-4727-b117-471a41e2a371",
   "metadata": {},
   "source": [
    "#### compile the model"
   ]
  },
  {
   "cell_type": "code",
   "execution_count": 12,
   "id": "04429aef",
   "metadata": {
    "execution": {
     "iopub.execute_input": "2022-12-20T01:06:36.443698Z",
     "iopub.status.busy": "2022-12-20T01:06:36.443175Z",
     "iopub.status.idle": "2022-12-20T01:06:36.454840Z",
     "shell.execute_reply": "2022-12-20T01:06:36.454003Z"
    },
    "papermill": {
     "duration": 0.019969,
     "end_time": "2022-12-20T01:06:36.456870",
     "exception": false,
     "start_time": "2022-12-20T01:06:36.436901",
     "status": "completed"
    },
    "tags": []
   },
   "outputs": [],
   "source": [
    "\n",
    "cnn_model.compile(optimizer='adam',\n",
    "              loss='sparse_categorical_crossentropy',\n",
    "              metrics=['accuracy'])"
   ]
  },
  {
   "cell_type": "code",
   "execution_count": 13,
   "id": "7f90359b",
   "metadata": {
    "execution": {
     "iopub.execute_input": "2022-12-20T01:06:36.468647Z",
     "iopub.status.busy": "2022-12-20T01:06:36.468390Z",
     "iopub.status.idle": "2022-12-20T01:12:36.268863Z",
     "shell.execute_reply": "2022-12-20T01:12:36.267893Z"
    },
    "papermill": {
     "duration": 359.892402,
     "end_time": "2022-12-20T01:12:36.354636",
     "exception": false,
     "start_time": "2022-12-20T01:06:36.462234",
     "status": "completed"
    },
    "tags": []
   },
   "outputs": [
    {
     "name": "stdout",
     "output_type": "stream",
     "text": [
      "Epoch 1/10\n"
     ]
    },
    {
     "name": "stderr",
     "output_type": "stream",
     "text": [
      "2022-12-20 01:06:36.502636: I tensorflow/compiler/mlir/mlir_graph_optimization_pass.cc:185] None of the MLIR Optimization Passes are enabled (registered 2)\n",
      "2022-12-20 01:06:37.895940: I tensorflow/stream_executor/cuda/cuda_dnn.cc:369] Loaded cuDNN version 8005\n"
     ]
    },
    {
     "name": "stdout",
     "output_type": "stream",
     "text": [
      "280/280 [==============================] - 69s 221ms/step - loss: 0.8355 - accuracy: 0.6290 - val_loss: 0.7303 - val_accuracy: 0.6844\n",
      "Epoch 2/10\n",
      "280/280 [==============================] - 22s 78ms/step - loss: 0.7196 - accuracy: 0.6803 - val_loss: 0.6712 - val_accuracy: 0.7158\n",
      "Epoch 3/10\n",
      "280/280 [==============================] - 22s 78ms/step - loss: 0.6548 - accuracy: 0.7196 - val_loss: 0.6064 - val_accuracy: 0.7478\n",
      "Epoch 4/10\n",
      "280/280 [==============================] - 21s 76ms/step - loss: 0.5867 - accuracy: 0.7531 - val_loss: 0.5518 - val_accuracy: 0.7736\n",
      "Epoch 5/10\n",
      "280/280 [==============================] - 22s 80ms/step - loss: 0.5148 - accuracy: 0.7843 - val_loss: 0.4891 - val_accuracy: 0.7977\n",
      "Epoch 6/10\n",
      "280/280 [==============================] - 21s 76ms/step - loss: 0.4558 - accuracy: 0.8149 - val_loss: 0.4485 - val_accuracy: 0.8199\n",
      "Epoch 7/10\n",
      "280/280 [==============================] - 22s 78ms/step - loss: 0.3864 - accuracy: 0.8474 - val_loss: 0.4158 - val_accuracy: 0.8371\n",
      "Epoch 8/10\n",
      "280/280 [==============================] - 22s 79ms/step - loss: 0.3132 - accuracy: 0.8775 - val_loss: 0.3992 - val_accuracy: 0.8476\n",
      "Epoch 9/10\n",
      "280/280 [==============================] - 22s 78ms/step - loss: 0.2691 - accuracy: 0.8953 - val_loss: 0.4111 - val_accuracy: 0.8513\n",
      "Epoch 10/10\n",
      "280/280 [==============================] - 21s 75ms/step - loss: 0.2374 - accuracy: 0.9067 - val_loss: 0.4470 - val_accuracy: 0.8421\n"
     ]
    },
    {
     "data": {
      "text/plain": [
       "<keras.callbacks.History at 0x7fbac1f31410>"
      ]
     },
     "execution_count": 13,
     "metadata": {},
     "output_type": "execute_result"
    }
   ],
   "source": [
    "# fit the model\n",
    "cnn_model.fit(train_set, epochs=10, validation_data=test_set)"
   ]
  },
  {
   "cell_type": "code",
   "execution_count": 14,
   "id": "9fb424dc",
   "metadata": {
    "execution": {
     "iopub.execute_input": "2022-12-20T01:12:36.527228Z",
     "iopub.status.busy": "2022-12-20T01:12:36.526213Z",
     "iopub.status.idle": "2022-12-20T01:12:47.190012Z",
     "shell.execute_reply": "2022-12-20T01:12:47.189039Z"
    },
    "papermill": {
     "duration": 10.752794,
     "end_time": "2022-12-20T01:12:47.192472",
     "exception": false,
     "start_time": "2022-12-20T01:12:36.439678",
     "status": "completed"
    },
    "tags": []
   },
   "outputs": [
    {
     "name": "stdout",
     "output_type": "stream",
     "text": [
      "280/280 [==============================] - 11s 38ms/step - loss: 0.3456 - accuracy: 0.8626\n"
     ]
    },
    {
     "data": {
      "text/plain": [
       "[0.3456118404865265, 0.8625732660293579]"
      ]
     },
     "execution_count": 14,
     "metadata": {},
     "output_type": "execute_result"
    }
   ],
   "source": [
    "cnn_model.evaluate(train_set)"
   ]
  },
  {
   "cell_type": "code",
   "execution_count": 15,
   "id": "af87d54d",
   "metadata": {
    "execution": {
     "iopub.execute_input": "2022-12-20T01:12:47.390263Z",
     "iopub.status.busy": "2022-12-20T01:12:47.388660Z",
     "iopub.status.idle": "2022-12-20T01:12:57.527671Z",
     "shell.execute_reply": "2022-12-20T01:12:57.526790Z"
    },
    "papermill": {
     "duration": 10.239175,
     "end_time": "2022-12-20T01:12:57.529844",
     "exception": false,
     "start_time": "2022-12-20T01:12:47.290669",
     "status": "completed"
    },
    "tags": []
   },
   "outputs": [
    {
     "name": "stdout",
     "output_type": "stream",
     "text": [
      "280/280 [==============================] - 10s 36ms/step - loss: 0.4470 - accuracy: 0.8421\n"
     ]
    },
    {
     "data": {
      "text/plain": [
       "[0.4470181465148926, 0.8420964479446411]"
      ]
     },
     "execution_count": 15,
     "metadata": {},
     "output_type": "execute_result"
    }
   ],
   "source": [
    "# test accuracy\n",
    "cnn_model.evaluate(test_set)"
   ]
  },
  {
   "cell_type": "code",
   "execution_count": 16,
   "id": "e81a9608",
   "metadata": {
    "execution": {
     "iopub.execute_input": "2022-12-20T01:12:57.732680Z",
     "iopub.status.busy": "2022-12-20T01:12:57.732309Z",
     "iopub.status.idle": "2022-12-20T01:13:07.800435Z",
     "shell.execute_reply": "2022-12-20T01:13:07.799467Z"
    },
    "papermill": {
     "duration": 10.172429,
     "end_time": "2022-12-20T01:13:07.802844",
     "exception": false,
     "start_time": "2022-12-20T01:12:57.630415",
     "status": "completed"
    },
    "tags": []
   },
   "outputs": [],
   "source": [
    "test_pred = cnn_model.predict(test_set)"
   ]
  },
  {
   "cell_type": "code",
   "execution_count": 17,
   "id": "4d4a27c0",
   "metadata": {
    "execution": {
     "iopub.execute_input": "2022-12-20T01:13:08.013157Z",
     "iopub.status.busy": "2022-12-20T01:13:08.012816Z",
     "iopub.status.idle": "2022-12-20T01:13:08.048504Z",
     "shell.execute_reply": "2022-12-20T01:13:08.047309Z"
    },
    "papermill": {
     "duration": 0.139657,
     "end_time": "2022-12-20T01:13:08.050458",
     "exception": false,
     "start_time": "2022-12-20T01:13:07.910801",
     "status": "completed"
    },
    "tags": []
   },
   "outputs": [
    {
     "name": "stdout",
     "output_type": "stream",
     "text": [
      "Test Predictions response sample: [0, 0, 1, 1, 1, 1, 1, 1, 0, 1]\n",
      "Test True response sample: [0, 0, 1, 1, 1, 1, 0, 1, 0, 1]\n"
     ]
    }
   ],
   "source": [
    "y_labels = [np.argmax(item) for item in test_pred]\n",
    "print(\"Test Predictions response sample:\",y_labels[:10])\n",
    "\n",
    "test_response = response_list[test_size:]\n",
    "print(\"Test True response sample:\", test_response[:10])\n"
   ]
  },
  {
   "cell_type": "code",
   "execution_count": 18,
   "id": "70df9d02",
   "metadata": {
    "execution": {
     "iopub.execute_input": "2022-12-20T01:13:08.250705Z",
     "iopub.status.busy": "2022-12-20T01:13:08.249867Z",
     "iopub.status.idle": "2022-12-20T01:13:08.254679Z",
     "shell.execute_reply": "2022-12-20T01:13:08.253821Z"
    },
    "papermill": {
     "duration": 0.107435,
     "end_time": "2022-12-20T01:13:08.256642",
     "exception": false,
     "start_time": "2022-12-20T01:13:08.149207",
     "status": "completed"
    },
    "tags": []
   },
   "outputs": [],
   "source": [
    "class_names = ['YOUNG','MIDDLE','OLD']"
   ]
  },
  {
   "cell_type": "code",
   "execution_count": 19,
   "id": "0ffc000f",
   "metadata": {
    "execution": {
     "iopub.execute_input": "2022-12-20T01:13:08.526478Z",
     "iopub.status.busy": "2022-12-20T01:13:08.526100Z",
     "iopub.status.idle": "2022-12-20T01:13:08.537879Z",
     "shell.execute_reply": "2022-12-20T01:13:08.537050Z"
    },
    "papermill": {
     "duration": 0.180472,
     "end_time": "2022-12-20T01:13:08.539890",
     "exception": false,
     "start_time": "2022-12-20T01:13:08.359418",
     "status": "completed"
    },
    "tags": []
   },
   "outputs": [],
   "source": [
    "# funtion to plot confusio matrix to check the accuracy of each class value\n",
    "def plot_confusion_matrix(y_true, y_pred, classes,\n",
    "                          normalize=False,\n",
    "                          title=None,\n",
    "                          cmap=plt.cm.Blues):\n",
    "    \"\"\"\n",
    "    This function prints and plots the confusion matrix.\n",
    "    Normalization can be applied by setting `normalize=True`.\n",
    "    \"\"\"\n",
    "    if not title:\n",
    "        if normalize:\n",
    "            title = 'Normalized confusion matrix'\n",
    "        else:\n",
    "            title = 'Confusion matrix, without normalization'\n",
    "\n",
    "    # Compute confusion matrix\n",
    "    cm = confusion_matrix(y_true, y_pred)\n",
    "    if normalize:\n",
    "        cm = cm.astype('float') / cm.sum(axis=1)[:, np.newaxis]\n",
    "        print(\"Normalized confusion matrix\")\n",
    "    else:\n",
    "        print('Confusion matrix, without normalization')\n",
    "\n",
    "#     print(cm)\n",
    "\n",
    "    fig, ax = plt.subplots(figsize=(7,7))\n",
    "    im = ax.imshow(cm, interpolation='nearest', cmap=cmap)\n",
    "    ax.figure.colorbar(im, ax=ax)\n",
    "    # We want to show all ticks...\n",
    "    ax.set(xticks=np.arange(cm.shape[1]),\n",
    "           yticks=np.arange(cm.shape[0]),\n",
    "           # ... and label them with the respective list entries\n",
    "           xticklabels=classes, yticklabels=classes,\n",
    "           title=title,\n",
    "           ylabel='True label',\n",
    "           xlabel='Predicted label')\n",
    "\n",
    "    # Rotate the tick labels and set their alignment.\n",
    "    plt.setp(ax.get_xticklabels(), rotation=45, ha=\"right\",\n",
    "             rotation_mode=\"anchor\")\n",
    "    # Loop over data dimensions and create text annotations.\n",
    "    fmt = '.2f' if normalize else 'd'\n",
    "    thresh = cm.max() / 2.\n",
    "    for i in range(cm.shape[0]):\n",
    "        for j in range(cm.shape[1]):\n",
    "            ax.text(j, i, format(cm[i, j], fmt),\n",
    "                    ha=\"center\", va=\"center\",\n",
    "                    color=\"white\" if cm[i, j] > thresh else \"black\")\n",
    "    fig.tight_layout()\n",
    "    return ax\n",
    "\n",
    "\n",
    "np.set_printoptions(precision=2)"
   ]
  },
  {
   "cell_type": "code",
   "execution_count": 20,
   "id": "df0601a5",
   "metadata": {
    "execution": {
     "iopub.execute_input": "2022-12-20T01:13:08.741182Z",
     "iopub.status.busy": "2022-12-20T01:13:08.740191Z",
     "iopub.status.idle": "2022-12-20T01:13:09.073161Z",
     "shell.execute_reply": "2022-12-20T01:13:09.072223Z"
    },
    "papermill": {
     "duration": 0.435727,
     "end_time": "2022-12-20T01:13:09.075157",
     "exception": false,
     "start_time": "2022-12-20T01:13:08.639430",
     "status": "completed"
    },
    "tags": []
   },
   "outputs": [
    {
     "name": "stdout",
     "output_type": "stream",
     "text": [
      "Confusion matrix, without normalization\n"
     ]
    },
    {
     "data": {
      "text/plain": [
       "<AxesSubplot:title={'center':'Confusion matrix, without normalization'}, xlabel='Predicted label', ylabel='True label'>"
      ]
     },
     "execution_count": 20,
     "metadata": {},
     "output_type": "execute_result"
    },
    {
     "data": {
      "image/png": "[encoded data removed]",
      "text/plain": [
       "<Figure size 504x504 with 2 Axes>"
      ]
     },
     "metadata": {
      "needs_background": "light"
     },
     "output_type": "display_data"
    }
   ],
   "source": [
    "# plotting confusion matrix without normalization\n",
    "plot_confusion_matrix(y_labels, test_response, classes=class_names,\n",
    "                      title='Confusion matrix, without normalization')"
   ]
  },
  {
   "cell_type": "code",
   "execution_count": 21,
   "id": "05b2eb7c",
   "metadata": {
    "execution": {
     "iopub.execute_input": "2022-12-20T01:13:09.278659Z",
     "iopub.status.busy": "2022-12-20T01:13:09.277787Z",
     "iopub.status.idle": "2022-12-20T01:13:09.579217Z",
     "shell.execute_reply": "2022-12-20T01:13:09.578236Z"
    },
    "papermill": {
     "duration": 0.405293,
     "end_time": "2022-12-20T01:13:09.581415",
     "exception": false,
     "start_time": "2022-12-20T01:13:09.176122",
     "status": "completed"
    },
    "tags": []
   },
   "outputs": [
    {
     "name": "stdout",
     "output_type": "stream",
     "text": [
      "Normalized confusion matrix\n"
     ]
    },
    {
     "data": {
      "text/plain": [
       "<AxesSubplot:title={'center':'Normalized confusion matrix'}, xlabel='Predicted label', ylabel='True label'>"
      ]
     },
     "execution_count": 21,
     "metadata": {},
     "output_type": "execute_result"
    },
    {
     "data": {
      "image/png": "[encoded data removed]",
      "text/plain": [
       "<Figure size 504x504 with 2 Axes>"
      ]
     },
     "metadata": {
      "needs_background": "light"
     },
     "output_type": "display_data"
    }
   ],
   "source": [
    "# plotting confusion matrix with normalization\n",
    "plot_confusion_matrix(y_labels, test_response, classes=class_names, normalize=True,\n",
    "                      title='Normalized confusion matrix')"
   ]
  },
  {
   "cell_type": "code",
   "execution_count": null,
   "id": "04265ba3",
   "metadata": {
    "papermill": {
     "duration": 0.100351,
     "end_time": "2022-12-20T01:13:09.782248",
     "exception": false,
     "start_time": "2022-12-20T01:13:09.681897",
     "status": "completed"
    },
    "tags": []
   },
   "outputs": [],
   "source": []
  }
 ],
 "metadata": {
  "kernelspec": {
   "display_name": "gpu",
   "language": "python",
   "name": "gpu"
  },
  "language_info": {
   "codemirror_mode": {
    "name": "ipython",
    "version": 3
   },
   "file_extension": ".py",
   "mimetype": "text/x-python",
   "name": "python",
   "nbconvert_exporter": "python",
   "pygments_lexer": "ipython3",
   "version": "3.10.8"
  },
  "papermill": {
   "default_parameters": {},
   "duration": 447.527401,
   "end_time": "2022-12-20T01:13:13.358783",
   "environment_variables": {},
   "exception": null,
   "input_path": "__notebook__.ipynb",
   "output_path": "__notebook__.ipynb",
   "parameters": {},
   "start_time": "2022-12-20T01:05:45.831382",
   "version": "2.3.4"
  }
 },
 "nbformat": 4,
 "nbformat_minor": 5
}
